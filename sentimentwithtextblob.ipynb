{
  "nbformat": 4,
  "nbformat_minor": 0,
  "metadata": {
    "colab": {
      "name": "sentimentwithtextblob.ipynb",
      "provenance": [],
      "collapsed_sections": [],
      "authorship_tag": "ABX9TyNx2/f3fGJkdxQ8woF+9WNb",
      "include_colab_link": true
    },
    "kernelspec": {
      "name": "python3",
      "display_name": "Python 3"
    }
  },
  "cells": [
    {
      "cell_type": "markdown",
      "metadata": {
        "id": "view-in-github",
        "colab_type": "text"
      },
      "source": [
        "<a href=\"https://colab.research.google.com/github/darshan-analytics/tweeter_data_analyzer/blob/master/sentimentwithtextblob.ipynb\" target=\"_parent\"><img src=\"https://colab.research.google.com/assets/colab-badge.svg\" alt=\"Open In Colab\"/></a>"
      ]
    },
    {
      "cell_type": "code",
      "metadata": {
        "id": "429rrhNek-tU"
      },
      "source": [
        "import re\n",
        "import string\n",
        "import numpy as np \n",
        "import random\n",
        "import pandas as pd \n",
        "import matplotlib.pyplot as plt\n",
        "import seaborn as sns\n",
        "%matplotlib inline\n",
        "from plotly import graph_objs as go\n",
        "import plotly.express as px\n",
        "import plotly.figure_factory as ff\n",
        "from collections import Counter\n",
        "\n",
        "from PIL import Image\n",
        "from wordcloud import WordCloud, STOPWORDS, ImageColorGenerator\n",
        "from textblob import TextBlob\n",
        "from textblob.classifiers import NaiveBayesClassifier\n",
        "from textblob.sentiments import NaiveBayesAnalyzer\n",
        "from textblob import Blobber\n",
        "\n",
        "\n",
        "import nltk\n",
        "from nltk.corpus import stopwords\n",
        "\n",
        "from tqdm import tqdm\n",
        "import os\n",
        "import nltk\n",
        "import spacy\n",
        "import random\n",
        "from spacy.util import compounding\n",
        "from spacy.util import minibatch\n",
        "\n",
        "import warnings\n",
        "warnings.filterwarnings(\"ignore\")"
      ],
      "execution_count": 109,
      "outputs": []
    },
    {
      "cell_type": "code",
      "metadata": {
        "id": "pOujSgculMFk",
        "outputId": "0c1b9b79-45ef-46d3-e2a4-368b8670a5f5",
        "colab": {
          "base_uri": "https://localhost:8080/",
          "height": 168
        }
      },
      "source": [
        "test_twitter = pd.read_csv(\"twitter.csv\", names=['tweetid','created_at', 'user_name','text','favourite_count','retweet_count', 'location', 'hashtags'])\n",
        "test_twitter.isna().sum()"
      ],
      "execution_count": 110,
      "outputs": [
        {
          "output_type": "execute_result",
          "data": {
            "text/plain": [
              "tweetid               0\n",
              "created_at            0\n",
              "user_name             0\n",
              "text                  0\n",
              "favourite_count       0\n",
              "retweet_count         0\n",
              "location           1440\n",
              "hashtags           3405\n",
              "dtype: int64"
            ]
          },
          "metadata": {
            "tags": []
          },
          "execution_count": 110
        }
      ]
    },
    {
      "cell_type": "code",
      "metadata": {
        "id": "wOu8EYI-mLJj"
      },
      "source": [
        "train_data_part_one = pd.read_csv('test.csv')\n",
        "train_data_part_two = pd.read_csv('train.csv')\n"
      ],
      "execution_count": 111,
      "outputs": []
    },
    {
      "cell_type": "code",
      "metadata": {
        "id": "ngFnelGrrWAV"
      },
      "source": [
        "train = train_data_part_one.append(train_data_part_two, ignore_index=True)\n",
        "train = train_data_part_one\n",
        "train['text'] = train['text'].apply(str)\n",
        "train['sentiment'] = train['sentiment'].apply(str)"
      ],
      "execution_count": 112,
      "outputs": []
    },
    {
      "cell_type": "code",
      "metadata": {
        "id": "lqdj53rj5O2E"
      },
      "source": [
        "train"
      ],
      "execution_count": null,
      "outputs": []
    },
    {
      "cell_type": "code",
      "metadata": {
        "id": "ngqpNtffzonE"
      },
      "source": [
        "import nltk\n",
        "nltk.download('punkt')"
      ],
      "execution_count": null,
      "outputs": []
    },
    {
      "cell_type": "code",
      "metadata": {
        "id": "YsdX9S_lzrnY"
      },
      "source": [
        "res = list(tuple(sub) for sub in train) \n",
        "res"
      ],
      "execution_count": null,
      "outputs": []
    },
    {
      "cell_type": "code",
      "metadata": {
        "id": "cwNZK1NV2Msi"
      },
      "source": [
        "!pip install TweetProcessor"
      ],
      "execution_count": null,
      "outputs": []
    },
    {
      "cell_type": "code",
      "metadata": {
        "id": "RkQkRJ4Hx8Bh"
      },
      "source": [
        "tweet = test.text[25]\n",
        "blob = TextBlob(tweet)"
      ],
      "execution_count": null,
      "outputs": []
    },
    {
      "cell_type": "code",
      "metadata": {
        "id": "_Ghn5Ebq3z4G",
        "outputId": "b328b85c-0dc0-4a2b-b715-806e751be81f",
        "colab": {
          "base_uri": "https://localhost:8080/",
          "height": 70
        }
      },
      "source": [
        "blob.sentences"
      ],
      "execution_count": null,
      "outputs": [
        {
          "output_type": "execute_result",
          "data": {
            "text/plain": [
              "[Sentence(\"b'RT @PROMOrxTeam: \\xe2\\x9d\\x97\\xef\\xb8\\x8f\\xe2\\x9d\\x97\\xef\\xb8\\x8f\\xe2\\x9d\\x97\\xef\\xb8\\x8f#cybersecurity #InfoSec #infosecurity #tesla Employee Loyalty.\"),\n",
              " Sentence(\"Wow. '\")]"
            ]
          },
          "metadata": {
            "tags": []
          },
          "execution_count": 24
        }
      ]
    },
    {
      "cell_type": "code",
      "metadata": {
        "id": "07hUg9J-5PRP",
        "outputId": "3c731e32-b8c0-4974-e572-9c6ff8c13d46",
        "colab": {
          "base_uri": "https://localhost:8080/",
          "height": 34
        }
      },
      "source": [
        "from nltk.tokenize import word_tokenize\n",
        "!pip install pyspellchecker\n",
        "from spellchecker import SpellChecker\n",
        "import time\n",
        "from multiprocessing import  Pool\n",
        "from nltk.stem import WordNetLemmatizer \n"
      ],
      "execution_count": 115,
      "outputs": [
        {
          "output_type": "stream",
          "text": [
            "Requirement already satisfied: pyspellchecker in /usr/local/lib/python3.6/dist-packages (0.5.5)\n"
          ],
          "name": "stdout"
        }
      ]
    },
    {
      "cell_type": "code",
      "metadata": {
        "id": "2YfkBKkL62jV"
      },
      "source": [
        "def untokenize(words):\n",
        "    \"\"\"Untokenizing a text undoes the tokenizing operation, restoring\n",
        "    punctuation and spaces to the places that people expect them to be.\n",
        "    Ideally, `untokenize(tokenize(text))` should be identical to `text`,\n",
        "    except for line breaks.\n",
        "    \"\"\"\n",
        "    text = ' '.join(words)\n",
        "    step1 = text.replace(\"`` \", '\"').replace(\" ''\", '\"').replace('. . .', '...')\n",
        "    step2 = step1.replace(\" ( \", \" (\").replace(\" ) \", \") \")\n",
        "    step3 = re.sub(r' ([.,:;?!%]+)([ \\'\"`])', r\"\\1\\2\", step2)\n",
        "    step4 = re.sub(r' ([.,:;?!%]+)$', r\"\\1\", step3)\n",
        "    step5 = step4.replace(\" '\", \"'\").replace(\" n't\", \"n't\").replace(\n",
        "        \"can not\", \"cannot\")\n",
        "    step6 = step5.replace(\" ` \", \" '\")\n",
        "    return step6.strip()\n",
        "\n",
        "\n",
        "# https://stackoverflow.com/a/47091490\n",
        "def decontracted(phrase):\n",
        "    \"\"\"Convert contractions like \"can't\" into \"can not\"\n",
        "    \"\"\"\n",
        "    # specific\n",
        "    phrase = re.sub(r\"won\\'t\", \"will not\", phrase)\n",
        "    phrase = re.sub(r\"can\\'t\", \"can not\", phrase)\n",
        "    phrase = re.sub(r\"\\'re\", \" are\", phrase)\n",
        "    phrase = re.sub(r\"\\'s\", \" is\", phrase)\n",
        "    phrase = re.sub(r\"\\'d\", \" would\", phrase)\n",
        "    phrase = re.sub(r\"\\'ll\", \" will\", phrase)\n",
        "    phrase = re.sub(r\"\\'t\", \" not\", phrase)\n",
        "    phrase = re.sub(r\"\\'ve\", \" have\", phrase)\n",
        "    phrase = re.sub(r\"\\'m\", \" am\", phrase)\n",
        "    return phrase\n",
        "\n",
        "\n",
        "slang_abbrev_dict = {\n",
        "    'AFAIK': 'As Far As I Know',\n",
        "    'AFK': 'Away From Keyboard',\n",
        "    'ASAP': 'As Soon As Possible',\n",
        "    'ATK': 'At The Keyboard',\n",
        "    'ATM': 'At The Moment',\n",
        "    'A3': 'Anytime, Anywhere, Anyplace',\n",
        "    'BAK': 'Back At Keyboard',\n",
        "    'BBL': 'Be Back Later',\n",
        "    'BBS': 'Be Back Soon',\n",
        "    'BFN': 'Bye For Now',\n",
        "    'B4N': 'Bye For Now',\n",
        "    'BRB': 'Be Right Back',\n",
        "    'BRT': 'Be Right There',\n",
        "    'BTW': 'By The Way',\n",
        "    'B4': 'Before',\n",
        "    'B4N': 'Bye For Now',\n",
        "    'CU': 'See You',\n",
        "    'CUL8R': 'See You Later',\n",
        "    'CYA': 'See You',\n",
        "    'FAQ': 'Frequently Asked Questions',\n",
        "    'FC': 'Fingers Crossed',\n",
        "    'FWIW': 'For What It\\'s Worth',\n",
        "    'FYI': 'For Your Information',\n",
        "    'GAL': 'Get A Life',\n",
        "    'GG': 'Good Game',\n",
        "    'GN': 'Good Night',\n",
        "    'GMTA': 'Great Minds Think Alike',\n",
        "    'GR8': 'Great!',\n",
        "    'G9': 'Genius',\n",
        "    'IC': 'I See',\n",
        "    'ICQ': 'I Seek you',\n",
        "    'ILU': 'I Love You',\n",
        "        'IMHO': 'In My Humble Opinion',\n",
        "    'IMO': 'In My Opinion',\n",
        "    'IOW': 'In Other Words',\n",
        "    'IRL': 'In Real Life',\n",
        "    'KISS': 'Keep It Simple, Stupid',\n",
        "    'LDR': 'Long Distance Relationship',\n",
        "    'LMAO': 'Laugh My Ass Off',\n",
        "    'LOL': 'Laughing Out Loud',\n",
        "    'LTNS': 'Long Time No See',\n",
        "    'L8R': 'Later',\n",
        "    'MTE': 'My Thoughts Exactly',\n",
        "    'M8': 'Mate',\n",
        "    'NRN': 'No Reply Necessary',\n",
        "    'OIC': 'Oh I See',\n",
        "    'OMG': 'Oh My God',\n",
        "    'PITA': 'Pain In The Ass',\n",
        "    'PRT': 'Party',\n",
        "    'PRW': 'Parents Are Watching',\n",
        "    'QPSA?': 'Que Pasa?',\n",
        "    'ROFL': 'Rolling On The Floor Laughing',\n",
        "    'ROFLOL': 'Rolling On The Floor Laughing Out Loud',\n",
        "    'ROTFLMAO': 'Rolling On The Floor Laughing My Ass Off',\n",
        "    'SK8': 'Skate',\n",
        "    'STATS': 'Your sex and age',\n",
        "    'ASL': 'Age, Sex, Location',\n",
        "    'THX': 'Thank You',\n",
        "    'TTFN': 'Ta-Ta For Now!',\n",
        "    'TTYL': 'Talk To You Later',\n",
        "    'U': 'You',\n",
        "    'U2': 'You Too',\n",
        "    'U4E': 'Yours For Ever',\n",
        "    'WB': 'Welcome Back',\n",
        "    'WTF': 'What The Fuck',\n",
        "    'WTG': 'Way To Go!',\n",
        "    'WUF': 'Where Are You From?',\n",
        "      'W8': 'Wait',\n",
        "    '7K': 'Sick:-D Laugher'\n",
        "}\n",
        "\n",
        "\n",
        "def unslang(text):\n",
        "    \"\"\"Converts text like \"OMG\" into \"Oh my God\"\n",
        "    \"\"\"\n",
        "    if text.upper() in slang_abbrev_dict.keys():\n",
        "        return slang_abbrev_dict[text.upper()]\n",
        "    else:\n",
        "        return text\n",
        "\n",
        "stopwords = [\n",
        "    \"a\", \"about\", \"above\", \"after\", \"again\", \"against\", \"ain\", \"all\", \"am\",\n",
        "    \"an\", \"and\", \"any\", \"are\", \"aren\", \"aren't\", \"as\", \"at\", \"be\", \"because\",\n",
        "    \"been\", \"before\", \"being\", \"below\", \"between\", \"both\", \"but\", \"by\", \"can\",\n",
        "    \"couldn\", \"couldn't\", \"d\", \"did\", \"didn\", \"didn't\", \"do\", \"does\", \"doesn\",\n",
        "    \"doesn't\", \"doing\", \"don\", \"don't\", \"down\", \"during\", \"each\", \"few\", \"for\",\n",
        "    \"from\", \"further\", \"had\", \"hadn\", \"hadn't\", \"has\", \"hasn\", \"hasn't\", \"have\",\n",
        "    \"haven\", \"haven't\", \"having\", \"he\", \"her\", \"here\", \"hers\", \"herself\", \"him\",\n",
        "    \"himself\", \"his\", \"how\", \"i\", \"if\", \"in\", \"into\", \"is\", \"isn\", \"isn't\",\n",
        "    \"it\", \"it's\", \"its\", \"itself\", \"just\", \"ll\", \"m\", \"ma\", \"me\", \"mightn\",\n",
        "    \"mightn't\", \"more\", \"most\", \"mustn\", \"mustn't\", \"my\", \"myself\", \"needn\",\n",
        "    \"needn't\", \"no\", \"nor\", \"not\", \"now\", \"o\", \"of\", \"off\", \"on\", \"once\",\n",
        "    \"only\", \"or\", \"other\", \"our\", \"ours\", \"ourselves\", \"out\", \"over\", \"own\",\n",
        "    \"re\", \"s\", \"same\", \"shan\", \"shan't\", \"she\", \"she's\", \"should\", \"should've\",\n",
        "    \"shouldn\", \"shouldn't\", \"so\", \"some\", \"such\", \"t\", \"than\", \"that\",\n",
        "    \"that'll\", \"the\", \"their\", \"theirs\", \"them\", \"themselves\", \"then\", \"there\",\n",
        "    \"these\", \"they\", \"this\", \"those\", \"through\", \"to\", \"too\", \"under\", \"until\",\n",
        "    \"up\", \"ve\", \"very\", \"was\", \"wasn\", \"wasn't\", \"we\", \"were\", \"weren\",\n",
        "    \"weren't\", \"what\", \"when\", \"where\", \"which\", \"while\", \"who\", \"whom\", \"why\",\n",
        "    \"will\", \"with\", \"won\", \"won't\", \"wouldn\", \"wouldn't\", \"y\", \"you\", \"you'd\",\n",
        "    \"you'll\", \"you're\", \"you've\", \"your\", \"yours\", \"yourself\", \"yourselves\",\n",
        "    \"could\", \"he'd\", \"he'll\", \"he's\", \"here's\", \"how's\", \"i'd\", \"i'll\", \"i'm\",\n",
        "    \"i've\", \"let's\", \"ought\", \"she'd\", \"she'll\", \"that's\", \"there's\", \"they'd\",\n",
        "    \"they'll\", \"they're\", \"they've\", \"we'd\", \"we'll\", \"we're\", \"we've\",\n",
        "    \"what's\", \"when's\", \"where's\", \"who's\", \"why's\", \"would\", \"able\", \"abst\",\n",
        "    \"accordance\", \"according\", \"accordingly\", \"across\", \"act\", \"actually\",\n",
        "    \"added\", \"adj\", \"affected\", \"affecting\", \"affects\", \"afterwards\", \"ah\",\n",
        "    \"almost\", \"alone\", \"along\", \"already\", \"also\", \"although\", \"always\",\n",
        "    \"among\", \"amongst\", \"announce\", \"another\", \"anybody\", \"anyhow\", \"anymore\",\n",
        "    \"anyone\", \"anything\", \"anyway\", \"anyways\", \"anywhere\", \"apparently\",\n",
        "    \"approximately\", \"arent\", \"arise\", \"around\", \"aside\", \"ask\", \"asking\",\n",
        "    \"auth\", \"available\", \"away\", \"awfully\", \"b\", \"back\", \"became\", \"become\",\n",
        "    \"becomes\", \"becoming\", \"beforehand\", \"begin\", \"beginning\", \"beginnings\",\n",
        "    \"begins\", \"behind\", \"believe\", \"beside\", \"besides\", \"beyond\", \"biol\",\n",
        "    \"brief\", \"briefly\", \"c\", \"ca\", \"came\", \"cannot\", \"can't\", \"cause\", \"causes\",\n",
        "       \"certain\", \"certainly\", \"co\", \"com\", \"come\", \"comes\", \"contain\",\n",
        "    \"containing\", \"contains\", \"couldnt\", \"date\", \"different\", \"done\",\n",
        "    \"downwards\", \"due\", \"e\", \"ed\", \"edu\", \"effect\", \"eg\", \"eight\", \"eighty\",\n",
        "    \"either\", \"else\", \"elsewhere\", \"end\", \"ending\", \"enough\", \"especially\",\n",
        "    \"et\", \"etc\", \"even\", \"ever\", \"every\", \"everybody\", \"everyone\", \"everything\",\n",
        "    \"everywhere\", \"ex\", \"except\", \"f\", \"far\", \"ff\", \"fifth\", \"first\", \"five\",\n",
        "    \"fix\", \"followed\", \"following\", \"follows\", \"former\", \"formerly\", \"forth\",\n",
        "    \"found\", \"four\", \"furthermore\", \"g\", \"gave\", \"get\", \"gets\", \"getting\",\n",
        "    \"give\", \"given\", \"gives\", \"giving\", \"go\", \"goes\", \"gone\", \"got\", \"gotten\",\n",
        "    \"h\", \"happens\", \"hardly\", \"hed\", \"hence\", \"hereafter\", \"hereby\", \"herein\",\n",
        "    \"heres\", \"hereupon\", \"hes\", \"hi\", \"hid\", \"hither\", \"home\", \"howbeit\",\n",
        "    \"however\", \"hundred\", \"id\", \"ie\", \"im\", \"immediate\", \"immediately\",\n",
        "    \"importance\", \"important\", \"inc\", \"indeed\", \"index\", \"information\",\n",
        "    \"instead\", \"invention\", \"inward\", \"itd\", \"it'll\", \"j\", \"k\", \"keep\", \"keeps\",\n",
        "    \"kept\", \"kg\", \"km\", \"know\", \"known\", \"knows\", \"l\", \"largely\", \"last\",\n",
        "    \"lately\", \"later\", \"latter\", \"latterly\", \"least\", \"less\", \"lest\", \"let\",\n",
        "    \"lets\", \"like\", \"liked\", \"likely\", \"line\", \"little\", \"'ll\", \"look\",\n",
        "    \"looking\", \"looks\", \"ltd\", \"made\", \"mainly\", \"make\", \"makes\", \"many\", \"may\",\n",
        "    \"maybe\", \"mean\", \"means\", \"meantime\", \"meanwhile\", \"merely\", \"mg\", \"might\",\n",
        "    \"million\", \"miss\", \"ml\", \"moreover\", \"mostly\", \"mr\", \"mrs\", \"much\", \"mug\",\n",
        "    \"must\", \"n\", \"na\", \"name\", \"namely\", \"nay\", \"nd\", \"near\", \"nearly\",\n",
        "    \"necessarily\", \"necessary\", \"need\", \"needs\", \"neither\", \"never\",\n",
        "    \"nevertheless\", \"new\", \"next\", \"nine\", \"ninety\", \"nobody\", \"non\", \"none\",\n",
        "    \"nonetheless\", \"noone\", \"normally\", \"nos\", \"noted\", \"nothing\", \"nowhere\",\n",
        "    \"obtain\", \"obtained\", \"obviously\", \"often\", \"oh\", \"ok\", \"okay\", \"old\",\n",
        "    \"omitted\", \"one\", \"ones\", \"onto\", \"ord\", \"others\", \"otherwise\", \"outside\",\n",
        "    \"overall\", \"owing\", \"p\", \"page\", \"pages\", \"part\", \"particular\",\n",
        "    \"particularly\", \"past\", \"per\", \"perhaps\", \"placed\", \"please\", \"plus\",\n",
        "    \"poorly\", \"possible\", \"possibly\", \"potentially\", \"pp\", \"predominantly\",\n",
        "    \"present\", \"previously\", \"primarily\", \"probably\", \"promptly\", \"proud\",\n",
        "    \"provides\", \"put\", \"q\", \"que\", \"quickly\", \"quite\", \"qv\", \"r\", \"ran\",\n",
        "    \"rather\", \"rd\", \"readily\", \"really\", \"recent\", \"recently\", \"ref\", \"refs\",\n",
        "    \"regarding\", \"regardless\", \"regards\", \"related\", \"relatively\", \"research\",\n",
        "    \"respectively\", \"resulted\", \"resulting\", \"results\", \"right\", \"run\", \"said\",\n",
        "    \"saw\", \"say\", \"saying\", \"says\", \"sec\", \"section\", \"see\", \"seeing\", \"seem\",\n",
        "    \"seemed\", \"seeming\", \"seems\", \"seen\", \"self\", \"selves\", \"sent\", \"seven\",\n",
        "    \"several\", \"shall\", \"shed\", \"shes\", \"show\", \"showed\", \"shown\", \"showns\",\n",
        "    \"rt\",\"b\"\n",
        "]\n",
        "def remove_emoji(text):\n",
        "    emoji_pattern = re.compile(\n",
        "        \"[\"\n",
        "        u\"\\U0001F600-\\U0001F64F\"  # emoticons\n",
        "        u\"\\U0001F300-\\U0001F5FF\"  # symbols & pictographs\n",
        "        u\"\\U0001F680-\\U0001F6FF\"  # transport & map symbols\n",
        "        u\"\\U0001F1E0-\\U0001F1FF\"  # flags (iOS)\n",
        "        u\"\\U00002702-\\U000027B0\"\n",
        "        u\"\\U000024C2-\\U0001F251\"\n",
        "        \"]+\",\n",
        "        flags=re.UNICODE)\n",
        "    return emoji_pattern.sub(r'', text)\n",
        "\n",
        "\n",
        "# from: https://www.kaggle.com/shahules/basic-eda-cleaning-and-glove\n",
        "# maybe a bug, it removes question marks?\n",
        "spell = SpellChecker()\n",
        "\n",
        "def correct_spellings(text):\n",
        "    corrected_text = []\n",
        "    misspelled_words = spell.unknown(text.split())\n",
        "    for word in text.split():\n",
        "        if word in misspelled_words:\n",
        "            corrected_text.append(spell.correction(word))\n",
        "        else:\n",
        "            corrected_text.append(word)\n",
        "    return \" \".join(corrected_text)\n",
        "\n",
        "def remove_urls(text):\n",
        "    text = clean(r\"http\\S+\", text)\n",
        "    text = clean(r\"www\\S+\", text)\n",
        "    text = clean(r\"pic.twitter.com\\S+\", text)\n",
        "\n",
        "    return text\n",
        "\n",
        "def clean(reg_exp, text):\n",
        "    text = re.sub(reg_exp, \" \", text)\n",
        "\n",
        "    # replace multiple spaces with one.\n",
        "    text = re.sub('\\s{2,}', ' ', text)\n",
        "\n",
        "    return text\n",
        "\n",
        "lemmatizer = WordNetLemmatizer()\n",
        "\n",
        "def clean_all(t, correct_spelling=False, remove_stopwords=False, lemmatize=False):\n",
        "    \n",
        "    # first do bulk cleanup on tokens that don't depend on word tokenization\n",
        "\n",
        "    # remove xml tags\n",
        "    t = clean(r\"<[^>]+>\", t)\n",
        "    t = clean(r\"&lt;\", t)\n",
        "    t = clean(r\"&gt;\", t)\n",
        "\n",
        "    # remove URLs\n",
        "    t = remove_urls(t)\n",
        "\n",
        "    # https://stackoverflow.com/a/35041925\n",
        "    # replace multiple punctuation with single. Ex: !?!?!? would become ?\n",
        "    t = clean(r'[\\?\\.\\!]+(?=[\\?\\.\\!])', t)\n",
        "\n",
        "    t = remove_emoji(t)\n",
        "    t = decontracted(t)\n",
        "\n",
        "    # now remove/expand bad patterns per word\n",
        "    words = word_tokenize(t)\n",
        "\n",
        "    # remove stopwords\n",
        "    if remove_stopwords is True:\n",
        "        words = [w for w in words if not w in stopwords]\n",
        "\n",
        "    clean_words = []\n",
        "\n",
        "    for w in words:\n",
        "        # normalize punctuation\n",
        "        w = re.sub(r'&', 'and', w)\n",
        "\n",
        "        # expand slang like OMG = Oh my God\n",
        "        w = unslang(w)\n",
        "\n",
        "        if lemmatize is True:\n",
        "            w = lemmatizer.lemmatize(w)\n",
        "        \n",
        "        clean_words.append(w)\n",
        "\n",
        "    # join the words back into a full string\n",
        "    t = untokenize(clean_words)\n",
        "\n",
        "    if correct_spelling is True:\n",
        "        # this resulted in lots of lost punctuation - omitting for now. Also greatly speeds things up\n",
        "        t = correct_spellings(t)\n",
        "\n",
        "    # finally, remove any non ascii and special characters that made it through\n",
        "    t = clean(r\"[^A-Za-z0-9\\.\\'!\\?,\\$]\", t)\n",
        "\n",
        "    return t\n",
        "\n",
        "def clean_dataframe(df, correct_spelling=False, remove_stopwords=False):\n",
        "    df['clean'] = df.apply(lambda x: clean_all(x['text'], correct_spelling=correct_spelling, remove_stopwords=remove_stopwords), axis=1)\n",
        "\n",
        "    return df\n",
        "\n",
        "\n",
        "# https://towardsdatascience.com/make-your-own-super-pandas-using-multiproc-1c04f41944a1\n",
        "def parallelize_dataframe(\n",
        "        df, func, n_cores=2):  # I think Kaggle notebooks only have 2 cores?\n",
        "    df_split = np.array_split(df, n_cores)\n",
        "    pool = Pool(n_cores)\n",
        "    df = pd.concat(pool.map(func, df_split))\n",
        "    pool.close()\n",
        "    pool.join()\n",
        "\n",
        "    return df\n",
        "\n",
        "\n",
        "\n",
        "\n",
        "\n"
      ],
      "execution_count": 76,
      "outputs": []
    },
    {
      "cell_type": "code",
      "metadata": {
        "id": "H46ARsHC5i-l"
      },
      "source": [
        "train['clean'] = train.apply(lambda x: clean_all(x['text']), axis = 1)\n",
        "train[['text','clean']]"
      ],
      "execution_count": null,
      "outputs": []
    },
    {
      "cell_type": "code",
      "metadata": {
        "id": "8DhbCtHR00qd"
      },
      "source": [
        "train['text'] = train['clean']\n",
        "train = train.drop(columns=['clean'])\n"
      ],
      "execution_count": 117,
      "outputs": []
    },
    {
      "cell_type": "code",
      "metadata": {
        "id": "5137vxe_7bGZ"
      },
      "source": [
        "test_twitter = parallelize_dataframe(test_twitter, clean_dataframe)\n",
        "test_twitter['text'] = test_twitter['clean']\n",
        "test_twitter = test_twitter.drop(columns=['clean'])\n",
        "test_vader = test_twitter"
      ],
      "execution_count": 118,
      "outputs": []
    },
    {
      "cell_type": "code",
      "metadata": {
        "id": "R-OcHgDU7m-g"
      },
      "source": [
        "train['text'] = train['text'].apply(str)"
      ],
      "execution_count": 80,
      "outputs": []
    },
    {
      "cell_type": "code",
      "metadata": {
        "id": "aXnlOPtCACT0"
      },
      "source": [
        "train = train[['text', 'sentiment']].values.tolist()\n",
        "\n",
        "L = len(train)\n",
        "train_index = int(0.60 * L)\n",
        "\n",
        "# split the data into a train and test data\n",
        "train, test = train[:train_index], train[train_index: ]"
      ],
      "execution_count": 81,
      "outputs": []
    },
    {
      "cell_type": "code",
      "metadata": {
        "id": "RbSqVIaAAcjc"
      },
      "source": [
        "cl = NaiveBayesClassifier(train)"
      ],
      "execution_count": 14,
      "outputs": []
    },
    {
      "cell_type": "code",
      "metadata": {
        "id": "uIMaQGv8Ando"
      },
      "source": [
        "test_twitter['text'] = test_twitter['text'].apply(str)"
      ],
      "execution_count": 15,
      "outputs": []
    },
    {
      "cell_type": "code",
      "metadata": {
        "id": "gZUqlbGzBmpb",
        "outputId": "0588d4bf-e638-43ac-ca24-7ff0e51a7460",
        "colab": {
          "base_uri": "https://localhost:8080/",
          "height": 34
        }
      },
      "source": [
        "blob = TextBlob(\"I am happy today\", classifier=cl)\n",
        "blob.sentiment"
      ],
      "execution_count": 16,
      "outputs": [
        {
          "output_type": "execute_result",
          "data": {
            "text/plain": [
              "Sentiment(polarity=0.8, subjectivity=1.0)"
            ]
          },
          "metadata": {
            "tags": []
          },
          "execution_count": 16
        }
      ]
    },
    {
      "cell_type": "code",
      "metadata": {
        "id": "qUsMISjkCCIx"
      },
      "source": [
        "import pickle\n",
        "pickled_classifier_file = open('sentiment_classifier.obj', 'wb')\n",
        "pickle.dump(cl, pickled_classifier_file)\n",
        "pickled_classifier_file.close()"
      ],
      "execution_count": 17,
      "outputs": []
    },
    {
      "cell_type": "code",
      "metadata": {
        "id": "Q6iiYHZ7CFmp"
      },
      "source": [
        "cl = pickle.load(open('sentiment_classifier.obj', 'rb'))\n"
      ],
      "execution_count": 18,
      "outputs": []
    },
    {
      "cell_type": "code",
      "metadata": {
        "id": "-jMwlsliCJUP"
      },
      "source": [
        "tb = Blobber(analyzer=NaiveBayesAnalyzer())\n",
        "\n"
      ],
      "execution_count": 21,
      "outputs": []
    },
    {
      "cell_type": "code",
      "metadata": {
        "id": "kexXyl87DB6U",
        "outputId": "8560b459-f4e1-4981-b1b5-440ddb022726",
        "colab": {
          "base_uri": "https://localhost:8080/",
          "height": 67
        }
      },
      "source": [
        "import nltk\n",
        "nltk.download('movie_reviews')"
      ],
      "execution_count": 22,
      "outputs": [
        {
          "output_type": "stream",
          "text": [
            "[nltk_data] Downloading package movie_reviews to /root/nltk_data...\n",
            "[nltk_data]   Package movie_reviews is already up-to-date!\n"
          ],
          "name": "stdout"
        },
        {
          "output_type": "execute_result",
          "data": {
            "text/plain": [
              "True"
            ]
          },
          "metadata": {
            "tags": []
          },
          "execution_count": 22
        }
      ]
    },
    {
      "cell_type": "code",
      "metadata": {
        "id": "Ml5_UavMCSqB"
      },
      "source": [
        "test_twitter[['nb_sentiment', 'nb_pos', 'nb_neg']] = test_twitter['text'].apply(lambda v: pd.Series(tb(v).sentiment))\n",
        "test_twitter.head()"
      ],
      "execution_count": null,
      "outputs": []
    },
    {
      "cell_type": "code",
      "metadata": {
        "id": "4otlYVESIUOQ"
      },
      "source": [
        "test_twitter['nb_sentiment'].replace({\"pos\":\"positive\", \"neg\":\"negative\"}, inplace=True)"
      ],
      "execution_count": 25,
      "outputs": []
    },
    {
      "cell_type": "code",
      "metadata": {
        "id": "7WPCBco7Iv3J"
      },
      "source": [
        "test_twitter.head()"
      ],
      "execution_count": null,
      "outputs": []
    },
    {
      "cell_type": "code",
      "metadata": {
        "id": "VZoIPhKKETxv",
        "outputId": "fa228482-0fb7-4168-9d91-35fa645cd296",
        "colab": {
          "base_uri": "https://localhost:8080/",
          "height": 331
        }
      },
      "source": [
        "tb = Blobber()\n",
        "test_twitter[['pattern_polarity', 'pattern_subj']] = test_twitter['text'].apply(lambda v: pd.Series(tb(v).sentiment))\n",
        "test_twitter['pattern_pos']  = test_twitter.pattern_polarity.abs()\n",
        "\n",
        "test_twitter[['pattern_pos', 'nb_pos']].hist()"
      ],
      "execution_count": 27,
      "outputs": [
        {
          "output_type": "execute_result",
          "data": {
            "text/plain": [
              "array([[<matplotlib.axes._subplots.AxesSubplot object at 0x7f861e431cf8>,\n",
              "        <matplotlib.axes._subplots.AxesSubplot object at 0x7f861e56f5f8>]],\n",
              "      dtype=object)"
            ]
          },
          "metadata": {
            "tags": []
          },
          "execution_count": 27
        },
        {
          "output_type": "display_data",
          "data": {
            "image/png": "[encoded data removed]",
            "text/plain": [
              "<Figure size 432x288 with 2 Axes>"
            ]
          },
          "metadata": {
            "tags": [],
            "needs_background": "light"
          }
        }
      ]
    },
    {
      "cell_type": "code",
      "metadata": {
        "id": "ud2m7_LEE1H6",
        "outputId": "d56933d7-5104-4abf-8b7f-7e75cdf1846b",
        "colab": {
          "base_uri": "https://localhost:8080/",
          "height": 34
        }
      },
      "source": [
        "cl.accuracy(train)"
      ],
      "execution_count": null,
      "outputs": [
        {
          "output_type": "execute_result",
          "data": {
            "text/plain": [
              "0.9424528301886792"
            ]
          },
          "metadata": {
            "tags": []
          },
          "execution_count": 104
        }
      ]
    },
    {
      "cell_type": "code",
      "metadata": {
        "id": "S-7R3XbCE8ei",
        "outputId": "49351892-5557-408b-f30c-7f34327ac68b",
        "colab": {
          "base_uri": "https://localhost:8080/",
          "height": 34
        }
      },
      "source": [
        "cl.accuracy(test)"
      ],
      "execution_count": null,
      "outputs": [
        {
          "output_type": "execute_result",
          "data": {
            "text/plain": [
              "0.5565770862800565"
            ]
          },
          "metadata": {
            "tags": []
          },
          "execution_count": 105
        }
      ]
    },
    {
      "cell_type": "code",
      "metadata": {
        "id": "i50Eh0w_FQxQ"
      },
      "source": [
        "test_twitter"
      ],
      "execution_count": null,
      "outputs": []
    },
    {
      "cell_type": "code",
      "metadata": {
        "id": "OKS7RT3CNpcI"
      },
      "source": [
        "train_test_twitter = test_twitter[['text', 'nb_sentiment']].values.tolist()\n",
        "\n",
        "L_test_twitter = len(train_test_twitter)\n",
        "train_test_index = int(0.60 * L_test_twitter)\n",
        "\n",
        "# split the data into a train and test data\n",
        "train_test_twitter, test_test_twitter = train_test_twitter[:train_test_index], train_test_twitter[train_test_index: ]"
      ],
      "execution_count": 59,
      "outputs": []
    },
    {
      "cell_type": "code",
      "metadata": {
        "id": "U1wTLQVJ8RYj"
      },
      "source": [
        "classify = NaiveBayesClassifier(train_test_twitter)"
      ],
      "execution_count": 60,
      "outputs": []
    },
    {
      "cell_type": "code",
      "metadata": {
        "id": "Vy963Vwe8m_Y",
        "outputId": "0e079953-2718-4a4c-91d5-bed311ede831",
        "colab": {
          "base_uri": "https://localhost:8080/",
          "height": 34
        }
      },
      "source": [
        "classify.accuracy(train_test_twitter)"
      ],
      "execution_count": 61,
      "outputs": [
        {
          "output_type": "execute_result",
          "data": {
            "text/plain": [
              "0.7718332022029898"
            ]
          },
          "metadata": {
            "tags": []
          },
          "execution_count": 61
        }
      ]
    },
    {
      "cell_type": "code",
      "metadata": {
        "id": "MrNt5hQE8bx2",
        "outputId": "f178e2b7-d6b5-4ea4-f7bf-22a503ba6dd0",
        "colab": {
          "base_uri": "https://localhost:8080/",
          "height": 34
        }
      },
      "source": [
        "classify.accuracy(test_test_twitter)"
      ],
      "execution_count": 62,
      "outputs": [
        {
          "output_type": "execute_result",
          "data": {
            "text/plain": [
              "0.514948859166011"
            ]
          },
          "metadata": {
            "tags": []
          },
          "execution_count": 62
        }
      ]
    },
    {
      "cell_type": "code",
      "metadata": {
        "id": "FFOZUwph95Ve"
      },
      "source": [
        "saving_data = test_twitter.drop(columns=['pattern_polarity','pattern_subj','pattern_pos'])\n",
        "saving_data.rename(columns={\"nb_sentiment\":\"sentiment\",\"nb_pos\":\"positive_value\",\"nb_neg\":\"negative_value\"}, inplace=True)"
      ],
      "execution_count": 49,
      "outputs": []
    },
    {
      "cell_type": "code",
      "metadata": {
        "id": "V7IXw8y_-fFu"
      },
      "source": [
        "saving_data.to_csv('labelled_data.csv')"
      ],
      "execution_count": 50,
      "outputs": []
    },
    {
      "cell_type": "code",
      "metadata": {
        "id": "C6jd8u6C_xiS",
        "outputId": "9fbc2b50-c71c-4c32-ee41-4224c8f0c851",
        "colab": {
          "base_uri": "https://localhost:8080/",
          "height": 50
        }
      },
      "source": [
        "import nltk\n",
        "nltk.download('vader_lexicon')\n",
        "from nltk.sentiment.vader import SentimentIntensityAnalyzer\n",
        "\n"
      ],
      "execution_count": 120,
      "outputs": [
        {
          "output_type": "stream",
          "text": [
            "[nltk_data] Downloading package vader_lexicon to /root/nltk_data...\n",
            "[nltk_data]   Package vader_lexicon is already up-to-date!\n"
          ],
          "name": "stdout"
        }
      ]
    },
    {
      "cell_type": "code",
      "metadata": {
        "id": "e2bH1kF8JszE"
      },
      "source": [
        "analyser = SentimentIntensityAnalyzer()"
      ],
      "execution_count": 121,
      "outputs": []
    },
    {
      "cell_type": "code",
      "metadata": {
        "id": "_-nXChuwK_r9"
      },
      "source": [
        "text_data = test_vader[['text']]"
      ],
      "execution_count": 122,
      "outputs": []
    },
    {
      "cell_type": "code",
      "metadata": {
        "id": "ZOL8VreLKggJ"
      },
      "source": [
        "counter = 0\n",
        "vader_score = []\n",
        "while (counter < len(text_data)):\n",
        "  score = analyser.polarity_scores(text_data.iloc[counter]['text'])\n",
        "  vader_score.append(score['compound'])\n",
        "  counter +=1"
      ],
      "execution_count": 123,
      "outputs": []
    },
    {
      "cell_type": "code",
      "metadata": {
        "id": "qsWVKkgWL6mw"
      },
      "source": [
        "test_vader['Vader_scores'] = vader_score\n"
      ],
      "execution_count": null,
      "outputs": []
    },
    {
      "cell_type": "code",
      "metadata": {
        "id": "x6W_y6Q0MCIm"
      },
      "source": [
        "counter = 0\n",
        "\n",
        "predicted_value = [ ] #empty series to hold our predicted values\n",
        "\n",
        "while(counter < len(text_data)):\n",
        "    if ((test_vader.iloc[counter]['Vader_scores'] >= 0.5)):\n",
        "        predicted_value.append('positive')\n",
        "        counter +=1\n",
        "    elif ((test_vader.iloc[counter]['Vader_scores'] > -0.5) & (test_vader.iloc[counter]['Vader_scores'] < 0.5)):\n",
        "        predicted_value.append('neutral')\n",
        "        counter +=1\n",
        "    elif ((test_vader.iloc[counter]['Vader_scores'] <= -0.5)):\n",
        "        predicted_value.append('negative')\n",
        "        counter +=1\n",
        "        "
      ],
      "execution_count": 125,
      "outputs": []
    },
    {
      "cell_type": "code",
      "metadata": {
        "id": "DEqc_Pb4N7PC"
      },
      "source": [
        "test_vader['sentiment'] = predicted_value\n",
        "vader_data = test_vader"
      ],
      "execution_count": 126,
      "outputs": []
    },
    {
      "cell_type": "code",
      "metadata": {
        "id": "VEHTJgixSFQW"
      },
      "source": [
        "vader_data.to_csv('Vader_labled_data.csv')"
      ],
      "execution_count": 128,
      "outputs": []
    },
    {
      "cell_type": "code",
      "metadata": {
        "id": "Ld3H8MPzOJic",
        "outputId": "61f35e7a-89e2-4c2d-cde7-438a1472f5e2",
        "colab": {
          "base_uri": "https://localhost:8080/",
          "height": 84
        }
      },
      "source": [
        "test_vader['sentiment'].value_counts()"
      ],
      "execution_count": 98,
      "outputs": [
        {
          "output_type": "execute_result",
          "data": {
            "text/plain": [
              "positive    3299\n",
              "neutral     2889\n",
              "negative     167\n",
              "Name: sentiment, dtype: int64"
            ]
          },
          "metadata": {
            "tags": []
          },
          "execution_count": 98
        }
      ]
    },
    {
      "cell_type": "code",
      "metadata": {
        "id": "uq5ur_sxO_j2"
      },
      "source": [
        "test_vader = test_vader[['text', 'sentiment']].values.tolist()\n",
        "\n",
        "test_vader_length = len(test_vader)\n",
        "vader_index = int(0.60 * test_vader_length)\n",
        "\n",
        "# split the data into a train and test data\n",
        "train_vader , test_vader = test_vader[:vader_index], test_vader[vader_index: ]"
      ],
      "execution_count": 99,
      "outputs": []
    },
    {
      "cell_type": "code",
      "metadata": {
        "id": "l7N1QNeZQYgG"
      },
      "source": [
        "vader_classifier = NaiveBayesClassifier(train_vader)"
      ],
      "execution_count": 100,
      "outputs": []
    },
    {
      "cell_type": "code",
      "metadata": {
        "id": "d7aCuIP7Qjuq",
        "outputId": "0b88f520-bd57-486a-cbd8-c7f8e4bc0224",
        "colab": {
          "base_uri": "https://localhost:8080/",
          "height": 34
        }
      },
      "source": [
        "vader_classifier.accuracy(test_vader)"
      ],
      "execution_count": 101,
      "outputs": [
        {
          "output_type": "execute_result",
          "data": {
            "text/plain": [
              "0.8095987411487018"
            ]
          },
          "metadata": {
            "tags": []
          },
          "execution_count": 101
        }
      ]
    },
    {
      "cell_type": "code",
      "metadata": {
        "id": "98SxY7M_QpLj",
        "outputId": "e1b427c2-585b-47dd-c668-94a8b3851368",
        "colab": {
          "base_uri": "https://localhost:8080/",
          "height": 34
        }
      },
      "source": [
        "vader_classifier.accuracy(train_vader)"
      ],
      "execution_count": 102,
      "outputs": [
        {
          "output_type": "execute_result",
          "data": {
            "text/plain": [
              "0.9029635457644899"
            ]
          },
          "metadata": {
            "tags": []
          },
          "execution_count": 102
        }
      ]
    }
  ]
}