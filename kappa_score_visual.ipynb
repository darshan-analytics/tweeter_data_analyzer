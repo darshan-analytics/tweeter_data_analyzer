{
  "nbformat": 4,
  "nbformat_minor": 0,
  "metadata": {
    "colab": {
      "name": "kappa_score_visual.ipynb",
      "provenance": [],
      "collapsed_sections": [],
      "authorship_tag": "ABX9TyNwWuTQmMp4OyggSzfrlxYf",
      "include_colab_link": true
    },
    "kernelspec": {
      "name": "python3",
      "display_name": "Python 3"
    }
  },
  "cells": [
    {
      "cell_type": "markdown",
      "metadata": {
        "id": "view-in-github",
        "colab_type": "text"
      },
      "source": [
        "<a href=\"https://colab.research.google.com/github/darshan-analytics/tweeter_data_analyzer/blob/master/kappa_score_visual.ipynb\" target=\"_parent\"><img src=\"https://colab.research.google.com/assets/colab-badge.svg\" alt=\"Open In Colab\"/></a>"
      ]
    },
    {
      "cell_type": "code",
      "metadata": {
        "id": "qFVNEwf9lhAf"
      },
      "source": [
        "import pandas as pd"
      ],
      "execution_count": 133,
      "outputs": []
    },
    {
      "cell_type": "code",
      "metadata": {
        "id": "Rq1L3_ANln2R"
      },
      "source": [
        "df = pd.read_csv('Vader_labled_data_first100.csv')"
      ],
      "execution_count": 134,
      "outputs": []
    },
    {
      "cell_type": "code",
      "metadata": {
        "id": "xBRXZ9U1lxBB",
        "outputId": "1eb61cf9-2788-42cc-821f-eb680cd4fec5",
        "colab": {
          "base_uri": "https://localhost:8080/",
          "height": 976
        }
      },
      "source": [
        "df"
      ],
      "execution_count": 135,
      "outputs": [
        {
          "output_type": "execute_result",
          "data": {
            "text/html": [
              "<div>\n",
              "<style scoped>\n",
              "    .dataframe tbody tr th:only-of-type {\n",
              "        vertical-align: middle;\n",
              "    }\n",
              "\n",
              "    .dataframe tbody tr th {\n",
              "        vertical-align: top;\n",
              "    }\n",
              "\n",
              "    .dataframe thead th {\n",
              "        text-align: right;\n",
              "    }\n",
              "</style>\n",
              "<table border=\"1\" class=\"dataframe\">\n",
              "  <thead>\n",
              "    <tr style=\"text-align: right;\">\n",
              "      <th></th>\n",
              "      <th>Unnamed: 0</th>\n",
              "      <th>tweetid</th>\n",
              "      <th>created_at</th>\n",
              "      <th>user_name</th>\n",
              "      <th>text</th>\n",
              "      <th>favourite_count</th>\n",
              "      <th>retweet_count</th>\n",
              "      <th>location</th>\n",
              "      <th>hashtags</th>\n",
              "      <th>Vader_scores</th>\n",
              "      <th>sentiment</th>\n",
              "      <th>Aditya_Sentiment</th>\n",
              "      <th>Darshan_Sentiment</th>\n",
              "      <th>Sahil_Sentiment</th>\n",
              "    </tr>\n",
              "  </thead>\n",
              "  <tbody>\n",
              "    <tr>\n",
              "      <th>0</th>\n",
              "      <td>0</td>\n",
              "      <td>1.300000e+18</td>\n",
              "      <td>9/10/20 23:55</td>\n",
              "      <td>mistytaka</td>\n",
              "      <td>b'RT Anon decoder Libertards getting destroyed...</td>\n",
              "      <td>0</td>\n",
              "      <td>31</td>\n",
              "      <td>Zimbabwe</td>\n",
              "      <td>Qanon Maga Tesla Trump Trump2020 Trump2020Land...</td>\n",
              "      <td>-0.4939</td>\n",
              "      <td>neutral</td>\n",
              "      <td>neutral</td>\n",
              "      <td>neutral</td>\n",
              "      <td>neutral</td>\n",
              "    </tr>\n",
              "    <tr>\n",
              "      <th>1</th>\n",
              "      <td>1</td>\n",
              "      <td>1.300000e+18</td>\n",
              "      <td>9/10/20 23:48</td>\n",
              "      <td>Moni5010</td>\n",
              "      <td>b' MonicaLewinsky elonmusk Teslarati Tesla Tes...</td>\n",
              "      <td>0</td>\n",
              "      <td>0</td>\n",
              "      <td>Texas</td>\n",
              "      <td>NaN</td>\n",
              "      <td>0.0000</td>\n",
              "      <td>neutral</td>\n",
              "      <td>neutral</td>\n",
              "      <td>neutral</td>\n",
              "      <td>neutral</td>\n",
              "    </tr>\n",
              "    <tr>\n",
              "      <th>2</th>\n",
              "      <td>2</td>\n",
              "      <td>1.300000e+18</td>\n",
              "      <td>9/10/20 23:44</td>\n",
              "      <td>JesseGr69932413</td>\n",
              "      <td>b'RT TDANetwork xe2 x80 x9c Tesla xe2 x80 x99s...</td>\n",
              "      <td>0</td>\n",
              "      <td>71</td>\n",
              "      <td>Mount Dora, FL</td>\n",
              "      <td>Tesla</td>\n",
              "      <td>0.2732</td>\n",
              "      <td>neutral</td>\n",
              "      <td>neutral</td>\n",
              "      <td>neutral</td>\n",
              "      <td>neutral</td>\n",
              "    </tr>\n",
              "    <tr>\n",
              "      <th>3</th>\n",
              "      <td>3</td>\n",
              "      <td>1.300000e+18</td>\n",
              "      <td>9/10/20 23:34</td>\n",
              "      <td>SANETHA888</td>\n",
              "      <td>b'RT garyblack00 Send message Buy Tesla. RBRei...</td>\n",
              "      <td>0</td>\n",
              "      <td>11</td>\n",
              "      <td>WALLACEBURG, ONTARIO</td>\n",
              "      <td>Tesla</td>\n",
              "      <td>0.0000</td>\n",
              "      <td>neutral</td>\n",
              "      <td>positive</td>\n",
              "      <td>positive</td>\n",
              "      <td>positive</td>\n",
              "    </tr>\n",
              "    <tr>\n",
              "      <th>4</th>\n",
              "      <td>4</td>\n",
              "      <td>1.300000e+18</td>\n",
              "      <td>9/10/20 23:31</td>\n",
              "      <td>joefiega</td>\n",
              "      <td>b'T minus 9 days never buy gas again. tesla'</td>\n",
              "      <td>17</td>\n",
              "      <td>1</td>\n",
              "      <td>Indianapolis, IN</td>\n",
              "      <td>tesla</td>\n",
              "      <td>0.0000</td>\n",
              "      <td>neutral</td>\n",
              "      <td>positive</td>\n",
              "      <td>positive</td>\n",
              "      <td>positive</td>\n",
              "    </tr>\n",
              "    <tr>\n",
              "      <th>...</th>\n",
              "      <td>...</td>\n",
              "      <td>...</td>\n",
              "      <td>...</td>\n",
              "      <td>...</td>\n",
              "      <td>...</td>\n",
              "      <td>...</td>\n",
              "      <td>...</td>\n",
              "      <td>...</td>\n",
              "      <td>...</td>\n",
              "      <td>...</td>\n",
              "      <td>...</td>\n",
              "      <td>...</td>\n",
              "      <td>...</td>\n",
              "      <td>...</td>\n",
              "    </tr>\n",
              "    <tr>\n",
              "      <th>95</th>\n",
              "      <td>95</td>\n",
              "      <td>1.300000e+18</td>\n",
              "      <td>9/10/20 15:27</td>\n",
              "      <td>SecdevB</td>\n",
              "      <td>b'RT JeffreyAWelch Tesla recently target Russi...</td>\n",
              "      <td>0</td>\n",
              "      <td>1</td>\n",
              "      <td>NaN</td>\n",
              "      <td>NaN</td>\n",
              "      <td>-0.5719</td>\n",
              "      <td>negative</td>\n",
              "      <td>negative</td>\n",
              "      <td>negative</td>\n",
              "      <td>negative</td>\n",
              "    </tr>\n",
              "    <tr>\n",
              "      <th>96</th>\n",
              "      <td>96</td>\n",
              "      <td>1.300000e+18</td>\n",
              "      <td>9/10/20 15:26</td>\n",
              "      <td>JeffreyAWelch</td>\n",
              "      <td>b'Tesla recently target Russian criminals look...</td>\n",
              "      <td>0</td>\n",
              "      <td>1</td>\n",
              "      <td>Phoenix, AZ</td>\n",
              "      <td>NaN</td>\n",
              "      <td>-0.5719</td>\n",
              "      <td>negative</td>\n",
              "      <td>negative</td>\n",
              "      <td>negative</td>\n",
              "      <td>negative</td>\n",
              "    </tr>\n",
              "    <tr>\n",
              "      <th>97</th>\n",
              "      <td>97</td>\n",
              "      <td>1.300000e+18</td>\n",
              "      <td>9/10/20 15:22</td>\n",
              "      <td>SolutionChicago</td>\n",
              "      <td>b'Tesla Investor Forum. Live chat, breaking ne...</td>\n",
              "      <td>0</td>\n",
              "      <td>0</td>\n",
              "      <td>Chicago, IL</td>\n",
              "      <td>NaN</td>\n",
              "      <td>0.2960</td>\n",
              "      <td>neutral</td>\n",
              "      <td>neutral</td>\n",
              "      <td>neutral</td>\n",
              "      <td>neutral</td>\n",
              "    </tr>\n",
              "    <tr>\n",
              "      <th>98</th>\n",
              "      <td>98</td>\n",
              "      <td>1.300000e+18</td>\n",
              "      <td>9/10/20 15:19</td>\n",
              "      <td>AutomobilesDot</td>\n",
              "      <td>b'RT arobbo26 First ever Tesla ordered today, ...</td>\n",
              "      <td>0</td>\n",
              "      <td>5</td>\n",
              "      <td>NaN</td>\n",
              "      <td>Tesla Model3</td>\n",
              "      <td>0.3612</td>\n",
              "      <td>neutral</td>\n",
              "      <td>neutral</td>\n",
              "      <td>neutral</td>\n",
              "      <td>neutral</td>\n",
              "    </tr>\n",
              "    <tr>\n",
              "      <th>99</th>\n",
              "      <td>99</td>\n",
              "      <td>1.300000e+18</td>\n",
              "      <td>9/10/20 15:13</td>\n",
              "      <td>theJakubKeller</td>\n",
              "      <td>b Remember said wished got Tesla $ 80 $ 170 $ ...</td>\n",
              "      <td>1</td>\n",
              "      <td>0</td>\n",
              "      <td>Cleveland, OH</td>\n",
              "      <td>NaN</td>\n",
              "      <td>0.2500</td>\n",
              "      <td>neutral</td>\n",
              "      <td>neutral</td>\n",
              "      <td>neutral</td>\n",
              "      <td>neutral</td>\n",
              "    </tr>\n",
              "  </tbody>\n",
              "</table>\n",
              "<p>100 rows × 14 columns</p>\n",
              "</div>"
            ],
            "text/plain": [
              "    Unnamed: 0       tweetid  ... Darshan_Sentiment Sahil_Sentiment\n",
              "0            0  1.300000e+18  ...           neutral         neutral\n",
              "1            1  1.300000e+18  ...           neutral         neutral\n",
              "2            2  1.300000e+18  ...           neutral         neutral\n",
              "3            3  1.300000e+18  ...          positive        positive\n",
              "4            4  1.300000e+18  ...          positive        positive\n",
              "..         ...           ...  ...               ...             ...\n",
              "95          95  1.300000e+18  ...          negative        negative\n",
              "96          96  1.300000e+18  ...          negative        negative\n",
              "97          97  1.300000e+18  ...           neutral         neutral\n",
              "98          98  1.300000e+18  ...           neutral         neutral\n",
              "99          99  1.300000e+18  ...           neutral         neutral\n",
              "\n",
              "[100 rows x 14 columns]"
            ]
          },
          "metadata": {
            "tags": []
          },
          "execution_count": 135
        }
      ]
    },
    {
      "cell_type": "code",
      "metadata": {
        "id": "jlAdwDfWlxel",
        "outputId": "097e54bc-1cf7-4352-8d17-f34075e43b28",
        "colab": {
          "base_uri": "https://localhost:8080/",
          "height": 84
        }
      },
      "source": [
        "df['Aditya_Sentiment'].value_counts()"
      ],
      "execution_count": 136,
      "outputs": [
        {
          "output_type": "execute_result",
          "data": {
            "text/plain": [
              "neutral     76\n",
              "positive    15\n",
              "negative     9\n",
              "Name: Aditya_Sentiment, dtype: int64"
            ]
          },
          "metadata": {
            "tags": []
          },
          "execution_count": 136
        }
      ]
    },
    {
      "cell_type": "code",
      "metadata": {
        "id": "7FzPaHeOs90Y",
        "outputId": "6ec6b6a9-95d9-4b9a-f894-9ccd0ef820bf",
        "colab": {
          "base_uri": "https://localhost:8080/",
          "height": 84
        }
      },
      "source": [
        "df['Sahil_Sentiment'].value_counts()"
      ],
      "execution_count": 137,
      "outputs": [
        {
          "output_type": "execute_result",
          "data": {
            "text/plain": [
              "neutral     63\n",
              "positive    28\n",
              "negative     9\n",
              "Name: Sahil_Sentiment, dtype: int64"
            ]
          },
          "metadata": {
            "tags": []
          },
          "execution_count": 137
        }
      ]
    },
    {
      "cell_type": "code",
      "metadata": {
        "id": "eSBTANUUtIsj",
        "outputId": "14a511b4-92b8-489b-ab05-13b6070c5d96",
        "colab": {
          "base_uri": "https://localhost:8080/",
          "height": 84
        }
      },
      "source": [
        "df['sentiment'].value_counts()"
      ],
      "execution_count": 138,
      "outputs": [
        {
          "output_type": "execute_result",
          "data": {
            "text/plain": [
              "neutral     86\n",
              "negative     8\n",
              "positive     6\n",
              "Name: sentiment, dtype: int64"
            ]
          },
          "metadata": {
            "tags": []
          },
          "execution_count": 138
        }
      ]
    },
    {
      "cell_type": "code",
      "metadata": {
        "id": "5IiVZx6elxt2",
        "outputId": "a523d23d-af62-4dfa-8420-3bf8d698433a",
        "colab": {
          "base_uri": "https://localhost:8080/",
          "height": 84
        }
      },
      "source": [
        "df['Darshan_Sentiment'].value_counts()"
      ],
      "execution_count": 139,
      "outputs": [
        {
          "output_type": "execute_result",
          "data": {
            "text/plain": [
              "neutral     75\n",
              "positive    16\n",
              "negative     9\n",
              "Name: Darshan_Sentiment, dtype: int64"
            ]
          },
          "metadata": {
            "tags": []
          },
          "execution_count": 139
        }
      ]
    },
    {
      "cell_type": "code",
      "metadata": {
        "id": "4fyq0qretfoh"
      },
      "source": [
        ""
      ],
      "execution_count": null,
      "outputs": []
    },
    {
      "cell_type": "code",
      "metadata": {
        "id": "Ht6EYeu0tPuC"
      },
      "source": [
        "df['sent_score'] = df['sentiment'].replace({'neutral':1,'positive':2,'negative':3})"
      ],
      "execution_count": 140,
      "outputs": []
    },
    {
      "cell_type": "code",
      "metadata": {
        "id": "7GubLTOl-B2z"
      },
      "source": [
        "df['adi_sent_score'] =  df['Aditya_Sentiment'].replace({'neutral':1,'positive':2,'negative':3})"
      ],
      "execution_count": 141,
      "outputs": []
    },
    {
      "cell_type": "code",
      "metadata": {
        "id": "l5a-wJ4r-Dyz"
      },
      "source": [
        "df['darsh_sent_score'] = df['Darshan_Sentiment'].replace({'neutral':1,'positive':2,'negative':3})"
      ],
      "execution_count": 142,
      "outputs": []
    },
    {
      "cell_type": "code",
      "metadata": {
        "id": "XwLGefzm-Uga"
      },
      "source": [
        "df['sahi_sent_score'] = df['Sahil_Sentiment'].replace({'neutral':1,'positive':2,'negative':3})"
      ],
      "execution_count": 143,
      "outputs": []
    },
    {
      "cell_type": "code",
      "metadata": {
        "id": "8uGG7gdQUPD7"
      },
      "source": [
        "to_cal = df[['sent_score','adi_sent_score','darsh_sent_score','sahi_sent_score']]"
      ],
      "execution_count": 109,
      "outputs": []
    },
    {
      "cell_type": "code",
      "metadata": {
        "id": "c3pZDVTTPwzq",
        "outputId": "b8aa630d-344d-42a4-af27-9b2b71289c6f",
        "colab": {
          "base_uri": "https://localhost:8080/",
          "height": 118
        }
      },
      "source": [
        "to_cal['neutral'] = (to_cal[['sent_score','adi_sent_score','darsh_sent_score','sahi_sent_score']] == 1).sum(axis = 1)"
      ],
      "execution_count": 144,
      "outputs": [
        {
          "output_type": "stream",
          "text": [
            "/usr/local/lib/python3.6/dist-packages/ipykernel_launcher.py:1: SettingWithCopyWarning: \n",
            "A value is trying to be set on a copy of a slice from a DataFrame.\n",
            "Try using .loc[row_indexer,col_indexer] = value instead\n",
            "\n",
            "See the caveats in the documentation: https://pandas.pydata.org/pandas-docs/stable/user_guide/indexing.html#returning-a-view-versus-a-copy\n",
            "  \"\"\"Entry point for launching an IPython kernel.\n"
          ],
          "name": "stderr"
        }
      ]
    },
    {
      "cell_type": "code",
      "metadata": {
        "id": "fEOV_PqEWm74",
        "outputId": "a0adfe5f-33f5-4030-9c83-bedf9b2b939c",
        "colab": {
          "base_uri": "https://localhost:8080/",
          "height": 218
        }
      },
      "source": [
        "to_cal['positive'] = (to_cal[['sent_score','adi_sent_score','darsh_sent_score','sahi_sent_score']] == 2).sum(axis = 1)\n",
        "to_cal['negative'] = (to_cal[['sent_score','adi_sent_score','darsh_sent_score','sahi_sent_score']] == 3).sum(axis = 1)"
      ],
      "execution_count": 145,
      "outputs": [
        {
          "output_type": "stream",
          "text": [
            "/usr/local/lib/python3.6/dist-packages/ipykernel_launcher.py:1: SettingWithCopyWarning: \n",
            "A value is trying to be set on a copy of a slice from a DataFrame.\n",
            "Try using .loc[row_indexer,col_indexer] = value instead\n",
            "\n",
            "See the caveats in the documentation: https://pandas.pydata.org/pandas-docs/stable/user_guide/indexing.html#returning-a-view-versus-a-copy\n",
            "  \"\"\"Entry point for launching an IPython kernel.\n",
            "/usr/local/lib/python3.6/dist-packages/ipykernel_launcher.py:2: SettingWithCopyWarning: \n",
            "A value is trying to be set on a copy of a slice from a DataFrame.\n",
            "Try using .loc[row_indexer,col_indexer] = value instead\n",
            "\n",
            "See the caveats in the documentation: https://pandas.pydata.org/pandas-docs/stable/user_guide/indexing.html#returning-a-view-versus-a-copy\n",
            "  \n"
          ],
          "name": "stderr"
        }
      ]
    },
    {
      "cell_type": "code",
      "metadata": {
        "id": "XO7n7g4FW4yn",
        "outputId": "ca485177-3162-4796-c64d-733e2230752e",
        "colab": {
          "base_uri": "https://localhost:8080/",
          "height": 402
        }
      },
      "source": [
        "to_cal"
      ],
      "execution_count": 146,
      "outputs": [
        {
          "output_type": "execute_result",
          "data": {
            "text/html": [
              "<div>\n",
              "<style scoped>\n",
              "    .dataframe tbody tr th:only-of-type {\n",
              "        vertical-align: middle;\n",
              "    }\n",
              "\n",
              "    .dataframe tbody tr th {\n",
              "        vertical-align: top;\n",
              "    }\n",
              "\n",
              "    .dataframe thead th {\n",
              "        text-align: right;\n",
              "    }\n",
              "</style>\n",
              "<table border=\"1\" class=\"dataframe\">\n",
              "  <thead>\n",
              "    <tr style=\"text-align: right;\">\n",
              "      <th></th>\n",
              "      <th>sent_score</th>\n",
              "      <th>adi_sent_score</th>\n",
              "      <th>darsh_sent_score</th>\n",
              "      <th>sahi_sent_score</th>\n",
              "      <th>neutral</th>\n",
              "      <th>positive</th>\n",
              "      <th>negative</th>\n",
              "    </tr>\n",
              "  </thead>\n",
              "  <tbody>\n",
              "    <tr>\n",
              "      <th>0</th>\n",
              "      <td>1</td>\n",
              "      <td>1</td>\n",
              "      <td>1</td>\n",
              "      <td>1</td>\n",
              "      <td>4</td>\n",
              "      <td>0</td>\n",
              "      <td>0</td>\n",
              "    </tr>\n",
              "    <tr>\n",
              "      <th>1</th>\n",
              "      <td>1</td>\n",
              "      <td>1</td>\n",
              "      <td>1</td>\n",
              "      <td>1</td>\n",
              "      <td>4</td>\n",
              "      <td>0</td>\n",
              "      <td>0</td>\n",
              "    </tr>\n",
              "    <tr>\n",
              "      <th>2</th>\n",
              "      <td>1</td>\n",
              "      <td>1</td>\n",
              "      <td>1</td>\n",
              "      <td>1</td>\n",
              "      <td>4</td>\n",
              "      <td>0</td>\n",
              "      <td>0</td>\n",
              "    </tr>\n",
              "    <tr>\n",
              "      <th>3</th>\n",
              "      <td>1</td>\n",
              "      <td>2</td>\n",
              "      <td>2</td>\n",
              "      <td>2</td>\n",
              "      <td>1</td>\n",
              "      <td>3</td>\n",
              "      <td>0</td>\n",
              "    </tr>\n",
              "    <tr>\n",
              "      <th>4</th>\n",
              "      <td>1</td>\n",
              "      <td>2</td>\n",
              "      <td>2</td>\n",
              "      <td>2</td>\n",
              "      <td>1</td>\n",
              "      <td>3</td>\n",
              "      <td>0</td>\n",
              "    </tr>\n",
              "    <tr>\n",
              "      <th>...</th>\n",
              "      <td>...</td>\n",
              "      <td>...</td>\n",
              "      <td>...</td>\n",
              "      <td>...</td>\n",
              "      <td>...</td>\n",
              "      <td>...</td>\n",
              "      <td>...</td>\n",
              "    </tr>\n",
              "    <tr>\n",
              "      <th>95</th>\n",
              "      <td>3</td>\n",
              "      <td>3</td>\n",
              "      <td>3</td>\n",
              "      <td>3</td>\n",
              "      <td>0</td>\n",
              "      <td>0</td>\n",
              "      <td>4</td>\n",
              "    </tr>\n",
              "    <tr>\n",
              "      <th>96</th>\n",
              "      <td>3</td>\n",
              "      <td>3</td>\n",
              "      <td>3</td>\n",
              "      <td>3</td>\n",
              "      <td>0</td>\n",
              "      <td>0</td>\n",
              "      <td>4</td>\n",
              "    </tr>\n",
              "    <tr>\n",
              "      <th>97</th>\n",
              "      <td>1</td>\n",
              "      <td>1</td>\n",
              "      <td>1</td>\n",
              "      <td>1</td>\n",
              "      <td>4</td>\n",
              "      <td>0</td>\n",
              "      <td>0</td>\n",
              "    </tr>\n",
              "    <tr>\n",
              "      <th>98</th>\n",
              "      <td>1</td>\n",
              "      <td>1</td>\n",
              "      <td>1</td>\n",
              "      <td>1</td>\n",
              "      <td>4</td>\n",
              "      <td>0</td>\n",
              "      <td>0</td>\n",
              "    </tr>\n",
              "    <tr>\n",
              "      <th>99</th>\n",
              "      <td>1</td>\n",
              "      <td>1</td>\n",
              "      <td>1</td>\n",
              "      <td>1</td>\n",
              "      <td>4</td>\n",
              "      <td>0</td>\n",
              "      <td>0</td>\n",
              "    </tr>\n",
              "  </tbody>\n",
              "</table>\n",
              "<p>100 rows × 7 columns</p>\n",
              "</div>"
            ],
            "text/plain": [
              "    sent_score  adi_sent_score  darsh_sent_score  ...  neutral  positive  negative\n",
              "0            1               1                 1  ...        4         0         0\n",
              "1            1               1                 1  ...        4         0         0\n",
              "2            1               1                 1  ...        4         0         0\n",
              "3            1               2                 2  ...        1         3         0\n",
              "4            1               2                 2  ...        1         3         0\n",
              "..         ...             ...               ...  ...      ...       ...       ...\n",
              "95           3               3                 3  ...        0         0         4\n",
              "96           3               3                 3  ...        0         0         4\n",
              "97           1               1                 1  ...        4         0         0\n",
              "98           1               1                 1  ...        4         0         0\n",
              "99           1               1                 1  ...        4         0         0\n",
              "\n",
              "[100 rows x 7 columns]"
            ]
          },
          "metadata": {
            "tags": []
          },
          "execution_count": 146
        }
      ]
    },
    {
      "cell_type": "code",
      "metadata": {
        "id": "9s6_LfLHW9ye",
        "outputId": "1fa846ae-5c4f-4bd4-c224-c5ae8f997560",
        "colab": {
          "base_uri": "https://localhost:8080/",
          "height": 101
        }
      },
      "source": [
        "to_fleiss = to_cal[['neutral','positive','negative']]\n",
        "to_fleiss.loc['total'] = to_fleiss.sum(axis= 0)"
      ],
      "execution_count": 147,
      "outputs": [
        {
          "output_type": "stream",
          "text": [
            "/usr/local/lib/python3.6/dist-packages/pandas/core/indexing.py:670: SettingWithCopyWarning: \n",
            "A value is trying to be set on a copy of a slice from a DataFrame\n",
            "\n",
            "See the caveats in the documentation: https://pandas.pydata.org/pandas-docs/stable/user_guide/indexing.html#returning-a-view-versus-a-copy\n",
            "  iloc._setitem_with_indexer(indexer, value)\n"
          ],
          "name": "stderr"
        }
      ]
    },
    {
      "cell_type": "code",
      "metadata": {
        "id": "7URczQMaZIjC",
        "outputId": "9f9e725b-9afa-46b3-ffbd-5d3396bf1da6",
        "colab": {
          "base_uri": "https://localhost:8080/",
          "height": 402
        }
      },
      "source": [
        "to_fleiss"
      ],
      "execution_count": 148,
      "outputs": [
        {
          "output_type": "execute_result",
          "data": {
            "text/html": [
              "<div>\n",
              "<style scoped>\n",
              "    .dataframe tbody tr th:only-of-type {\n",
              "        vertical-align: middle;\n",
              "    }\n",
              "\n",
              "    .dataframe tbody tr th {\n",
              "        vertical-align: top;\n",
              "    }\n",
              "\n",
              "    .dataframe thead th {\n",
              "        text-align: right;\n",
              "    }\n",
              "</style>\n",
              "<table border=\"1\" class=\"dataframe\">\n",
              "  <thead>\n",
              "    <tr style=\"text-align: right;\">\n",
              "      <th></th>\n",
              "      <th>neutral</th>\n",
              "      <th>positive</th>\n",
              "      <th>negative</th>\n",
              "    </tr>\n",
              "  </thead>\n",
              "  <tbody>\n",
              "    <tr>\n",
              "      <th>0</th>\n",
              "      <td>4</td>\n",
              "      <td>0</td>\n",
              "      <td>0</td>\n",
              "    </tr>\n",
              "    <tr>\n",
              "      <th>1</th>\n",
              "      <td>4</td>\n",
              "      <td>0</td>\n",
              "      <td>0</td>\n",
              "    </tr>\n",
              "    <tr>\n",
              "      <th>2</th>\n",
              "      <td>4</td>\n",
              "      <td>0</td>\n",
              "      <td>0</td>\n",
              "    </tr>\n",
              "    <tr>\n",
              "      <th>3</th>\n",
              "      <td>1</td>\n",
              "      <td>3</td>\n",
              "      <td>0</td>\n",
              "    </tr>\n",
              "    <tr>\n",
              "      <th>4</th>\n",
              "      <td>1</td>\n",
              "      <td>3</td>\n",
              "      <td>0</td>\n",
              "    </tr>\n",
              "    <tr>\n",
              "      <th>...</th>\n",
              "      <td>...</td>\n",
              "      <td>...</td>\n",
              "      <td>...</td>\n",
              "    </tr>\n",
              "    <tr>\n",
              "      <th>96</th>\n",
              "      <td>0</td>\n",
              "      <td>0</td>\n",
              "      <td>4</td>\n",
              "    </tr>\n",
              "    <tr>\n",
              "      <th>97</th>\n",
              "      <td>4</td>\n",
              "      <td>0</td>\n",
              "      <td>0</td>\n",
              "    </tr>\n",
              "    <tr>\n",
              "      <th>98</th>\n",
              "      <td>4</td>\n",
              "      <td>0</td>\n",
              "      <td>0</td>\n",
              "    </tr>\n",
              "    <tr>\n",
              "      <th>99</th>\n",
              "      <td>4</td>\n",
              "      <td>0</td>\n",
              "      <td>0</td>\n",
              "    </tr>\n",
              "    <tr>\n",
              "      <th>total</th>\n",
              "      <td>300</td>\n",
              "      <td>65</td>\n",
              "      <td>35</td>\n",
              "    </tr>\n",
              "  </tbody>\n",
              "</table>\n",
              "<p>101 rows × 3 columns</p>\n",
              "</div>"
            ],
            "text/plain": [
              "       neutral  positive  negative\n",
              "0            4         0         0\n",
              "1            4         0         0\n",
              "2            4         0         0\n",
              "3            1         3         0\n",
              "4            1         3         0\n",
              "...        ...       ...       ...\n",
              "96           0         0         4\n",
              "97           4         0         0\n",
              "98           4         0         0\n",
              "99           4         0         0\n",
              "total      300        65        35\n",
              "\n",
              "[101 rows x 3 columns]"
            ]
          },
          "metadata": {
            "tags": []
          },
          "execution_count": 148
        }
      ]
    },
    {
      "cell_type": "code",
      "metadata": {
        "id": "JEPpHz4bYsfu"
      },
      "source": [
        "sum = to_fleiss.loc['total'].sum()\n"
      ],
      "execution_count": 149,
      "outputs": []
    },
    {
      "cell_type": "code",
      "metadata": {
        "id": "pdhkVuTfdivz"
      },
      "source": [
        "number_of_raters = 4"
      ],
      "execution_count": 150,
      "outputs": []
    },
    {
      "cell_type": "code",
      "metadata": {
        "id": "XbOsjm4WcPon",
        "outputId": "f41b7e62-2fe4-41f0-b4c2-992bb7cc407c",
        "colab": {
          "base_uri": "https://localhost:8080/",
          "height": 118
        }
      },
      "source": [
        "to_fleiss['Pi'] = (to_fleiss['negative'].pow(2) + to_fleiss['neutral'].pow(2) + to_fleiss['positive'].pow(2) - number_of_raters)/ (number_of_raters * (number_of_raters -1))"
      ],
      "execution_count": 151,
      "outputs": [
        {
          "output_type": "stream",
          "text": [
            "/usr/local/lib/python3.6/dist-packages/ipykernel_launcher.py:1: SettingWithCopyWarning: \n",
            "A value is trying to be set on a copy of a slice from a DataFrame.\n",
            "Try using .loc[row_indexer,col_indexer] = value instead\n",
            "\n",
            "See the caveats in the documentation: https://pandas.pydata.org/pandas-docs/stable/user_guide/indexing.html#returning-a-view-versus-a-copy\n",
            "  \"\"\"Entry point for launching an IPython kernel.\n"
          ],
          "name": "stderr"
        }
      ]
    },
    {
      "cell_type": "code",
      "metadata": {
        "id": "3YUl4cYrcVIy",
        "outputId": "ddeebfb1-56c7-4460-acaf-70355b65dc6a",
        "colab": {
          "base_uri": "https://localhost:8080/",
          "height": 101
        }
      },
      "source": [
        "to_fleiss.loc['Pj'] = to_fleiss.loc['total'] / (number_of_raters *100)"
      ],
      "execution_count": 152,
      "outputs": [
        {
          "output_type": "stream",
          "text": [
            "/usr/local/lib/python3.6/dist-packages/pandas/core/indexing.py:670: SettingWithCopyWarning: \n",
            "A value is trying to be set on a copy of a slice from a DataFrame\n",
            "\n",
            "See the caveats in the documentation: https://pandas.pydata.org/pandas-docs/stable/user_guide/indexing.html#returning-a-view-versus-a-copy\n",
            "  iloc._setitem_with_indexer(indexer, value)\n"
          ],
          "name": "stderr"
        }
      ]
    },
    {
      "cell_type": "code",
      "metadata": {
        "id": "GndpEJwWfRWE",
        "outputId": "613580d1-dc78-4043-86f7-b05ccb1b971e",
        "colab": {
          "base_uri": "https://localhost:8080/",
          "height": 402
        }
      },
      "source": [
        "to_fleiss"
      ],
      "execution_count": 153,
      "outputs": [
        {
          "output_type": "execute_result",
          "data": {
            "text/html": [
              "<div>\n",
              "<style scoped>\n",
              "    .dataframe tbody tr th:only-of-type {\n",
              "        vertical-align: middle;\n",
              "    }\n",
              "\n",
              "    .dataframe tbody tr th {\n",
              "        vertical-align: top;\n",
              "    }\n",
              "\n",
              "    .dataframe thead th {\n",
              "        text-align: right;\n",
              "    }\n",
              "</style>\n",
              "<table border=\"1\" class=\"dataframe\">\n",
              "  <thead>\n",
              "    <tr style=\"text-align: right;\">\n",
              "      <th></th>\n",
              "      <th>neutral</th>\n",
              "      <th>positive</th>\n",
              "      <th>negative</th>\n",
              "      <th>Pi</th>\n",
              "    </tr>\n",
              "  </thead>\n",
              "  <tbody>\n",
              "    <tr>\n",
              "      <th>0</th>\n",
              "      <td>4.00</td>\n",
              "      <td>0.0000</td>\n",
              "      <td>0.0000</td>\n",
              "      <td>1.000000</td>\n",
              "    </tr>\n",
              "    <tr>\n",
              "      <th>1</th>\n",
              "      <td>4.00</td>\n",
              "      <td>0.0000</td>\n",
              "      <td>0.0000</td>\n",
              "      <td>1.000000</td>\n",
              "    </tr>\n",
              "    <tr>\n",
              "      <th>2</th>\n",
              "      <td>4.00</td>\n",
              "      <td>0.0000</td>\n",
              "      <td>0.0000</td>\n",
              "      <td>1.000000</td>\n",
              "    </tr>\n",
              "    <tr>\n",
              "      <th>3</th>\n",
              "      <td>1.00</td>\n",
              "      <td>3.0000</td>\n",
              "      <td>0.0000</td>\n",
              "      <td>0.500000</td>\n",
              "    </tr>\n",
              "    <tr>\n",
              "      <th>4</th>\n",
              "      <td>1.00</td>\n",
              "      <td>3.0000</td>\n",
              "      <td>0.0000</td>\n",
              "      <td>0.500000</td>\n",
              "    </tr>\n",
              "    <tr>\n",
              "      <th>...</th>\n",
              "      <td>...</td>\n",
              "      <td>...</td>\n",
              "      <td>...</td>\n",
              "      <td>...</td>\n",
              "    </tr>\n",
              "    <tr>\n",
              "      <th>97</th>\n",
              "      <td>4.00</td>\n",
              "      <td>0.0000</td>\n",
              "      <td>0.0000</td>\n",
              "      <td>1.000000</td>\n",
              "    </tr>\n",
              "    <tr>\n",
              "      <th>98</th>\n",
              "      <td>4.00</td>\n",
              "      <td>0.0000</td>\n",
              "      <td>0.0000</td>\n",
              "      <td>1.000000</td>\n",
              "    </tr>\n",
              "    <tr>\n",
              "      <th>99</th>\n",
              "      <td>4.00</td>\n",
              "      <td>0.0000</td>\n",
              "      <td>0.0000</td>\n",
              "      <td>1.000000</td>\n",
              "    </tr>\n",
              "    <tr>\n",
              "      <th>total</th>\n",
              "      <td>300.00</td>\n",
              "      <td>65.0000</td>\n",
              "      <td>35.0000</td>\n",
              "      <td>7953.833333</td>\n",
              "    </tr>\n",
              "    <tr>\n",
              "      <th>Pj</th>\n",
              "      <td>0.75</td>\n",
              "      <td>0.1625</td>\n",
              "      <td>0.0875</td>\n",
              "      <td>19.884583</td>\n",
              "    </tr>\n",
              "  </tbody>\n",
              "</table>\n",
              "<p>102 rows × 4 columns</p>\n",
              "</div>"
            ],
            "text/plain": [
              "       neutral  positive  negative           Pi\n",
              "0         4.00    0.0000    0.0000     1.000000\n",
              "1         4.00    0.0000    0.0000     1.000000\n",
              "2         4.00    0.0000    0.0000     1.000000\n",
              "3         1.00    3.0000    0.0000     0.500000\n",
              "4         1.00    3.0000    0.0000     0.500000\n",
              "...        ...       ...       ...          ...\n",
              "97        4.00    0.0000    0.0000     1.000000\n",
              "98        4.00    0.0000    0.0000     1.000000\n",
              "99        4.00    0.0000    0.0000     1.000000\n",
              "total   300.00   65.0000   35.0000  7953.833333\n",
              "Pj        0.75    0.1625    0.0875    19.884583\n",
              "\n",
              "[102 rows x 4 columns]"
            ]
          },
          "metadata": {
            "tags": []
          },
          "execution_count": 153
        }
      ]
    },
    {
      "cell_type": "code",
      "metadata": {
        "id": "PtmGv0fT4Ebt",
        "outputId": "658efebe-35d7-4f32-9f49-089961be10f7",
        "colab": {
          "base_uri": "https://localhost:8080/",
          "height": 34
        }
      },
      "source": [
        "total = to_fleiss['Pi'].iloc[:100].sum()\n",
        "total"
      ],
      "execution_count": 154,
      "outputs": [
        {
          "output_type": "execute_result",
          "data": {
            "text/plain": [
              "84.33333333333334"
            ]
          },
          "metadata": {
            "tags": []
          },
          "execution_count": 154
        }
      ]
    },
    {
      "cell_type": "code",
      "metadata": {
        "id": "mRp9N_bd5LP4"
      },
      "source": [
        "P = total / 100"
      ],
      "execution_count": 155,
      "outputs": []
    },
    {
      "cell_type": "code",
      "metadata": {
        "id": "v7lkwZZg5SPH",
        "outputId": "ba21a534-19c0-487d-d938-f78feb02ed7e",
        "colab": {
          "base_uri": "https://localhost:8080/",
          "height": 34
        }
      },
      "source": [
        "Pe = to_fleiss['negative'].loc['Pj'] **2 + to_fleiss['neutral'].loc['Pj'] **2 + to_fleiss['positive'].loc['Pj'] **2\n",
        "Pe"
      ],
      "execution_count": 156,
      "outputs": [
        {
          "output_type": "execute_result",
          "data": {
            "text/plain": [
              "0.5965625"
            ]
          },
          "metadata": {
            "tags": []
          },
          "execution_count": 156
        }
      ]
    },
    {
      "cell_type": "code",
      "metadata": {
        "id": "gD3RszjP6l6Y",
        "outputId": "24bc5b08-e754-408f-dff2-7381c5daf63a",
        "colab": {
          "base_uri": "https://localhost:8080/",
          "height": 34
        }
      },
      "source": [
        "kappa_score = (P - Pe)/ (1 - Pe)\n",
        "kappa_score"
      ],
      "execution_count": 158,
      "outputs": [
        {
          "output_type": "execute_result",
          "data": {
            "text/plain": [
              "0.6116705396333593"
            ]
          },
          "metadata": {
            "tags": []
          },
          "execution_count": 158
        }
      ]
    },
    {
      "cell_type": "markdown",
      "metadata": {
        "id": "t2QVRZBR68cD"
      },
      "source": [
        "\n",
        "kappa \tInterpretation\n",
        "< 0\tPoor agreement\n",
        "0.01 – 0.20\tSlight agreement\n",
        "0.21 – 0.40\tFair agreement\n",
        "0.41 – 0.60\tModerate agreement\n",
        "0.61 – 0.80\tSubstantial agreement\n",
        "0.81 – 1.00\tAlmost perfect agreement\n"
      ]
    },
    {
      "cell_type": "code",
      "metadata": {
        "id": "xWuIovsk6-Kp",
        "outputId": "f7b0af5b-b7b7-4fb7-88d1-ea52750bc1b2",
        "colab": {
          "base_uri": "https://localhost:8080/",
          "height": 521
        }
      },
      "source": [
        "only_raters = df[['adi_sent_score','darsh_sent_score','sahi_sent_score']]\n",
        "only_raters['neutral'] = (only_raters[['adi_sent_score','darsh_sent_score','sahi_sent_score']] == 1).sum(axis = 1)\n",
        "only_raters['positive'] = (only_raters[['adi_sent_score','darsh_sent_score','sahi_sent_score']] == 2).sum(axis = 1)\n",
        "only_raters['negative'] = (only_raters[['adi_sent_score','darsh_sent_score','sahi_sent_score']] == 3).sum(axis = 1)\n",
        "to_fleiss_rater = only_raters[['neutral','positive','negative']]\n",
        "to_fleiss_rater.loc['total'] = to_fleiss_rater.sum(axis= 0)\n",
        "sum_rater = to_fleiss_rater.loc['total'].sum()\n",
        "number_of_raters = 3\n",
        "to_fleiss_rater['Pi'] = (to_fleiss_rater['negative'].pow(2) + to_fleiss_rater['neutral'].pow(2) + to_fleiss_rater['positive'].pow(2) - number_of_raters)/ (number_of_raters * (number_of_raters -1))\n",
        "to_fleiss_rater.loc['Pj'] = to_fleiss_rater.loc['total'] / (number_of_raters *100)\n",
        "total_rater = to_fleiss_rater['Pi'].iloc[:100].sum()\n",
        "P_rater = total_rater / 100\n",
        "Pe_rater = to_fleiss_rater['negative'].loc['Pj'] **2 + to_fleiss_rater['neutral'].loc['Pj'] **2 + to_fleiss_rater['positive'].loc['Pj'] **2\n",
        "kappa_score_rater = (P_rater - Pe_rater)/ (1 - Pe_rater)\n",
        "kappa_score_rater"
      ],
      "execution_count": 165,
      "outputs": [
        {
          "output_type": "stream",
          "text": [
            "/usr/local/lib/python3.6/dist-packages/ipykernel_launcher.py:2: SettingWithCopyWarning: \n",
            "A value is trying to be set on a copy of a slice from a DataFrame.\n",
            "Try using .loc[row_indexer,col_indexer] = value instead\n",
            "\n",
            "See the caveats in the documentation: https://pandas.pydata.org/pandas-docs/stable/user_guide/indexing.html#returning-a-view-versus-a-copy\n",
            "  \n",
            "/usr/local/lib/python3.6/dist-packages/ipykernel_launcher.py:3: SettingWithCopyWarning: \n",
            "A value is trying to be set on a copy of a slice from a DataFrame.\n",
            "Try using .loc[row_indexer,col_indexer] = value instead\n",
            "\n",
            "See the caveats in the documentation: https://pandas.pydata.org/pandas-docs/stable/user_guide/indexing.html#returning-a-view-versus-a-copy\n",
            "  This is separate from the ipykernel package so we can avoid doing imports until\n",
            "/usr/local/lib/python3.6/dist-packages/ipykernel_launcher.py:4: SettingWithCopyWarning: \n",
            "A value is trying to be set on a copy of a slice from a DataFrame.\n",
            "Try using .loc[row_indexer,col_indexer] = value instead\n",
            "\n",
            "See the caveats in the documentation: https://pandas.pydata.org/pandas-docs/stable/user_guide/indexing.html#returning-a-view-versus-a-copy\n",
            "  after removing the cwd from sys.path.\n",
            "/usr/local/lib/python3.6/dist-packages/pandas/core/indexing.py:670: SettingWithCopyWarning: \n",
            "A value is trying to be set on a copy of a slice from a DataFrame\n",
            "\n",
            "See the caveats in the documentation: https://pandas.pydata.org/pandas-docs/stable/user_guide/indexing.html#returning-a-view-versus-a-copy\n",
            "  iloc._setitem_with_indexer(indexer, value)\n",
            "/usr/local/lib/python3.6/dist-packages/ipykernel_launcher.py:9: SettingWithCopyWarning: \n",
            "A value is trying to be set on a copy of a slice from a DataFrame.\n",
            "Try using .loc[row_indexer,col_indexer] = value instead\n",
            "\n",
            "See the caveats in the documentation: https://pandas.pydata.org/pandas-docs/stable/user_guide/indexing.html#returning-a-view-versus-a-copy\n",
            "  if __name__ == '__main__':\n"
          ],
          "name": "stderr"
        },
        {
          "output_type": "execute_result",
          "data": {
            "text/plain": [
              "0.6549482422363354"
            ]
          },
          "metadata": {
            "tags": []
          },
          "execution_count": 165
        }
      ]
    },
    {
      "cell_type": "code",
      "metadata": {
        "id": "CM2pJSICEOdz"
      },
      "source": [
        "df_visual = pd.read_csv('Vader_labled_data.csv')\n"
      ],
      "execution_count": 167,
      "outputs": []
    },
    {
      "cell_type": "code",
      "metadata": {
        "id": "a1YlIRO_EnYk",
        "outputId": "ee35dd73-b7ca-4614-94a1-fcc322a87360",
        "colab": {
          "base_uri": "https://localhost:8080/",
          "height": 422
        }
      },
      "source": [
        "df_visual['Date'] = pd.to_datetime(df_visual['created_at']).dt.date\n",
        "df_visual['counter'] = 1\n",
        "date_time = df_visual.groupby('Date')['counter'].sum().reset_index()\n",
        "plt.figure(figsize=(10,6))\n",
        "plt.hist(date_time['Date'], bins =10, density=True, cumulative=True, histtype='stepfilled', alpha=0.4)\n",
        "plt.xticks(rotation=90)\n",
        "plt.show()"
      ],
      "execution_count": 261,
      "outputs": [
        {
          "output_type": "display_data",
          "data": {
            "image/png": "[encoded data removed]",
            "text/plain": [
              "<Figure size 720x432 with 1 Axes>"
            ]
          },
          "metadata": {
            "tags": [],
            "needs_background": "light"
          }
        }
      ]
    },
    {
      "cell_type": "code",
      "metadata": {
        "id": "0f6MPfCyKy2E"
      },
      "source": [
        "from matplotlib.dates import date2num\n",
        "from matplotlib.dates import num2date\n",
        "import matplotlib.pyplot as plt"
      ],
      "execution_count": 211,
      "outputs": []
    },
    {
      "cell_type": "code",
      "metadata": {
        "id": "bpsrwKxcKTs2",
        "outputId": "f1af1e6f-49a4-414e-cc20-2da79b82ed63",
        "colab": {
          "base_uri": "https://localhost:8080/",
          "height": 521
        }
      },
      "source": [
        "counts, bin_edges = np.histogram(date2num(date_time['Date']), bins=10,  density = False)\n",
        "x_t = date2num(date_time['Date'])\n",
        "print(\"Prrinting the counts for histogram\\n\",counts)\n",
        "pdf = (counts) / (counts.sum())\n",
        "print(\"Sum of count is\\n\",counts.sum())\n",
        "\n",
        "print(\"Printing Edges of bins \\n\",bin_edges)\n",
        "plt.figure()\n",
        "cdf = np.cumsum(pdf)\n",
        "print(\"CDF Is as followes\\n\",cdf)\n",
        "plt.gca().legend(('Cdf'))\n",
        "plt.title('CDF For Date')\n",
        "plt.xlabel(\"Date into num\")\n",
        "plt.ylabel(\"Percentage\")\n",
        "plt.plot(bin_edges[1:],cdf)\n",
        "plt.xticks(rotation=90)\n",
        "labels = num2date(bin_edges,tz=None)\n",
        "print(labels)\n",
        "plt.xticks(labels)\n",
        "plt.show()"
      ],
      "execution_count": 259,
      "outputs": [
        {
          "output_type": "stream",
          "text": [
            "Prrinting the counts for histogram\n",
            " [4 4 4 4 1 0 0 0 3 5]\n",
            "Sum of count is\n",
            " 25\n",
            "Printing Edges of bins \n",
            " [737676.  737680.5 737685.  737689.5 737694.  737698.5 737703.  737707.5\n",
            " 737712.  737716.5 737721. ]\n",
            "CDF Is as followes\n",
            " [0.16 0.32 0.48 0.64 0.68 0.68 0.68 0.68 0.8  1.  ]\n",
            "[datetime.datetime(2020, 9, 8, 0, 0, tzinfo=datetime.timezone.utc), datetime.datetime(2020, 9, 12, 12, 0, tzinfo=datetime.timezone.utc), datetime.datetime(2020, 9, 17, 0, 0, tzinfo=datetime.timezone.utc), datetime.datetime(2020, 9, 21, 12, 0, tzinfo=datetime.timezone.utc), datetime.datetime(2020, 9, 26, 0, 0, tzinfo=datetime.timezone.utc), datetime.datetime(2020, 9, 30, 12, 0, tzinfo=datetime.timezone.utc), datetime.datetime(2020, 10, 5, 0, 0, tzinfo=datetime.timezone.utc), datetime.datetime(2020, 10, 9, 12, 0, tzinfo=datetime.timezone.utc), datetime.datetime(2020, 10, 14, 0, 0, tzinfo=datetime.timezone.utc), datetime.datetime(2020, 10, 18, 12, 0, tzinfo=datetime.timezone.utc), datetime.datetime(2020, 10, 23, 0, 0, tzinfo=datetime.timezone.utc)]\n"
          ],
          "name": "stdout"
        },
        {
          "output_type": "display_data",
          "data": {
            "image/png": "[encoded data removed]",
            "text/plain": [
              "<Figure size 432x288 with 1 Axes>"
            ]
          },
          "metadata": {
            "tags": [],
            "needs_background": "light"
          }
        }
      ]
    },
    {
      "cell_type": "code",
      "metadata": {
        "id": "2yEKrDBK1fTN",
        "outputId": "63017136-abc1-4f6a-af85-f1c019a3a5b8",
        "colab": {
          "base_uri": "https://localhost:8080/",
          "height": 101
        }
      },
      "source": [
        "desired_width=320\n",
        "\n",
        "pd.set_option('display.width', desired_width)\n",
        "pd.set_option('max_colwidth',400)\n",
        "pd.describe_option('max_colwidth')\n",
        "pd.set_option('max_rows',9999)\n",
        "\n",
        "\n",
        "pd.set_option('display.max_columns',20)"
      ],
      "execution_count": 292,
      "outputs": [
        {
          "output_type": "stream",
          "text": [
            "display.max_colwidth : int or None\n",
            "    The maximum width in characters of a column in the repr of\n",
            "    a pandas data structure. When the column overflows, a \"...\"\n",
            "    placeholder is embedded in the output. A 'None' value means unlimited.\n",
            "    [default: 50] [currently: 400]\n"
          ],
          "name": "stdout"
        }
      ]
    },
    {
      "cell_type": "code",
      "metadata": {
        "id": "kRUviE3AaUdd",
        "outputId": "f032892e-5c81-4a58-bfff-dea41103bca9",
        "colab": {
          "base_uri": "https://localhost:8080/",
          "height": 1000
        }
      },
      "source": [
        "df_sent = df_visual.groupby(['sentiment','Date'])['counter'].sum().reset_index()\n",
        "df_sent"
      ],
      "execution_count": 305,
      "outputs": [
        {
          "output_type": "execute_result",
          "data": {
            "text/html": [
              "<div>\n",
              "<style scoped>\n",
              "    .dataframe tbody tr th:only-of-type {\n",
              "        vertical-align: middle;\n",
              "    }\n",
              "\n",
              "    .dataframe tbody tr th {\n",
              "        vertical-align: top;\n",
              "    }\n",
              "\n",
              "    .dataframe thead th {\n",
              "        text-align: right;\n",
              "    }\n",
              "</style>\n",
              "<table border=\"1\" class=\"dataframe\">\n",
              "  <thead>\n",
              "    <tr style=\"text-align: right;\">\n",
              "      <th></th>\n",
              "      <th>sentiment</th>\n",
              "      <th>Date</th>\n",
              "      <th>counter</th>\n",
              "    </tr>\n",
              "  </thead>\n",
              "  <tbody>\n",
              "    <tr>\n",
              "      <th>0</th>\n",
              "      <td>negative</td>\n",
              "      <td>2020-09-08</td>\n",
              "      <td>10</td>\n",
              "    </tr>\n",
              "    <tr>\n",
              "      <th>1</th>\n",
              "      <td>negative</td>\n",
              "      <td>2020-09-09</td>\n",
              "      <td>9</td>\n",
              "    </tr>\n",
              "    <tr>\n",
              "      <th>2</th>\n",
              "      <td>negative</td>\n",
              "      <td>2020-09-10</td>\n",
              "      <td>15</td>\n",
              "    </tr>\n",
              "    <tr>\n",
              "      <th>3</th>\n",
              "      <td>negative</td>\n",
              "      <td>2020-09-12</td>\n",
              "      <td>3</td>\n",
              "    </tr>\n",
              "    <tr>\n",
              "      <th>4</th>\n",
              "      <td>negative</td>\n",
              "      <td>2020-09-13</td>\n",
              "      <td>4</td>\n",
              "    </tr>\n",
              "    <tr>\n",
              "      <th>5</th>\n",
              "      <td>negative</td>\n",
              "      <td>2020-09-14</td>\n",
              "      <td>10</td>\n",
              "    </tr>\n",
              "    <tr>\n",
              "      <th>6</th>\n",
              "      <td>negative</td>\n",
              "      <td>2020-09-15</td>\n",
              "      <td>33</td>\n",
              "    </tr>\n",
              "    <tr>\n",
              "      <th>7</th>\n",
              "      <td>negative</td>\n",
              "      <td>2020-09-16</td>\n",
              "      <td>8</td>\n",
              "    </tr>\n",
              "    <tr>\n",
              "      <th>8</th>\n",
              "      <td>negative</td>\n",
              "      <td>2020-09-17</td>\n",
              "      <td>8</td>\n",
              "    </tr>\n",
              "    <tr>\n",
              "      <th>9</th>\n",
              "      <td>negative</td>\n",
              "      <td>2020-09-18</td>\n",
              "      <td>7</td>\n",
              "    </tr>\n",
              "    <tr>\n",
              "      <th>10</th>\n",
              "      <td>negative</td>\n",
              "      <td>2020-09-19</td>\n",
              "      <td>2</td>\n",
              "    </tr>\n",
              "    <tr>\n",
              "      <th>11</th>\n",
              "      <td>negative</td>\n",
              "      <td>2020-09-20</td>\n",
              "      <td>3</td>\n",
              "    </tr>\n",
              "    <tr>\n",
              "      <th>12</th>\n",
              "      <td>negative</td>\n",
              "      <td>2020-09-22</td>\n",
              "      <td>16</td>\n",
              "    </tr>\n",
              "    <tr>\n",
              "      <th>13</th>\n",
              "      <td>negative</td>\n",
              "      <td>2020-09-23</td>\n",
              "      <td>15</td>\n",
              "    </tr>\n",
              "    <tr>\n",
              "      <th>14</th>\n",
              "      <td>negative</td>\n",
              "      <td>2020-09-24</td>\n",
              "      <td>11</td>\n",
              "    </tr>\n",
              "    <tr>\n",
              "      <th>15</th>\n",
              "      <td>negative</td>\n",
              "      <td>2020-09-25</td>\n",
              "      <td>10</td>\n",
              "    </tr>\n",
              "    <tr>\n",
              "      <th>16</th>\n",
              "      <td>negative</td>\n",
              "      <td>2020-09-26</td>\n",
              "      <td>3</td>\n",
              "    </tr>\n",
              "    <tr>\n",
              "      <th>17</th>\n",
              "      <td>negative</td>\n",
              "      <td>2020-10-16</td>\n",
              "      <td>3</td>\n",
              "    </tr>\n",
              "    <tr>\n",
              "      <th>18</th>\n",
              "      <td>negative</td>\n",
              "      <td>2020-10-17</td>\n",
              "      <td>5</td>\n",
              "    </tr>\n",
              "    <tr>\n",
              "      <th>19</th>\n",
              "      <td>negative</td>\n",
              "      <td>2020-10-18</td>\n",
              "      <td>3</td>\n",
              "    </tr>\n",
              "    <tr>\n",
              "      <th>20</th>\n",
              "      <td>negative</td>\n",
              "      <td>2020-10-19</td>\n",
              "      <td>7</td>\n",
              "    </tr>\n",
              "    <tr>\n",
              "      <th>21</th>\n",
              "      <td>negative</td>\n",
              "      <td>2020-10-20</td>\n",
              "      <td>7</td>\n",
              "    </tr>\n",
              "    <tr>\n",
              "      <th>22</th>\n",
              "      <td>negative</td>\n",
              "      <td>2020-10-21</td>\n",
              "      <td>8</td>\n",
              "    </tr>\n",
              "    <tr>\n",
              "      <th>23</th>\n",
              "      <td>negative</td>\n",
              "      <td>2020-10-22</td>\n",
              "      <td>5</td>\n",
              "    </tr>\n",
              "    <tr>\n",
              "      <th>24</th>\n",
              "      <td>negative</td>\n",
              "      <td>2020-10-23</td>\n",
              "      <td>4</td>\n",
              "    </tr>\n",
              "    <tr>\n",
              "      <th>25</th>\n",
              "      <td>neutral</td>\n",
              "      <td>2020-09-08</td>\n",
              "      <td>160</td>\n",
              "    </tr>\n",
              "    <tr>\n",
              "      <th>26</th>\n",
              "      <td>neutral</td>\n",
              "      <td>2020-09-09</td>\n",
              "      <td>154</td>\n",
              "    </tr>\n",
              "    <tr>\n",
              "      <th>27</th>\n",
              "      <td>neutral</td>\n",
              "      <td>2020-09-10</td>\n",
              "      <td>202</td>\n",
              "    </tr>\n",
              "    <tr>\n",
              "      <th>28</th>\n",
              "      <td>neutral</td>\n",
              "      <td>2020-09-12</td>\n",
              "      <td>91</td>\n",
              "    </tr>\n",
              "    <tr>\n",
              "      <th>29</th>\n",
              "      <td>neutral</td>\n",
              "      <td>2020-09-13</td>\n",
              "      <td>80</td>\n",
              "    </tr>\n",
              "    <tr>\n",
              "      <th>30</th>\n",
              "      <td>neutral</td>\n",
              "      <td>2020-09-14</td>\n",
              "      <td>255</td>\n",
              "    </tr>\n",
              "    <tr>\n",
              "      <th>31</th>\n",
              "      <td>neutral</td>\n",
              "      <td>2020-09-15</td>\n",
              "      <td>200</td>\n",
              "    </tr>\n",
              "    <tr>\n",
              "      <th>32</th>\n",
              "      <td>neutral</td>\n",
              "      <td>2020-09-16</td>\n",
              "      <td>98</td>\n",
              "    </tr>\n",
              "    <tr>\n",
              "      <th>33</th>\n",
              "      <td>neutral</td>\n",
              "      <td>2020-09-17</td>\n",
              "      <td>95</td>\n",
              "    </tr>\n",
              "    <tr>\n",
              "      <th>34</th>\n",
              "      <td>neutral</td>\n",
              "      <td>2020-09-18</td>\n",
              "      <td>113</td>\n",
              "    </tr>\n",
              "    <tr>\n",
              "      <th>35</th>\n",
              "      <td>neutral</td>\n",
              "      <td>2020-09-19</td>\n",
              "      <td>114</td>\n",
              "    </tr>\n",
              "    <tr>\n",
              "      <th>36</th>\n",
              "      <td>neutral</td>\n",
              "      <td>2020-09-20</td>\n",
              "      <td>84</td>\n",
              "    </tr>\n",
              "    <tr>\n",
              "      <th>37</th>\n",
              "      <td>neutral</td>\n",
              "      <td>2020-09-22</td>\n",
              "      <td>446</td>\n",
              "    </tr>\n",
              "    <tr>\n",
              "      <th>38</th>\n",
              "      <td>neutral</td>\n",
              "      <td>2020-09-23</td>\n",
              "      <td>369</td>\n",
              "    </tr>\n",
              "    <tr>\n",
              "      <th>39</th>\n",
              "      <td>neutral</td>\n",
              "      <td>2020-09-24</td>\n",
              "      <td>160</td>\n",
              "    </tr>\n",
              "    <tr>\n",
              "      <th>40</th>\n",
              "      <td>neutral</td>\n",
              "      <td>2020-09-25</td>\n",
              "      <td>132</td>\n",
              "    </tr>\n",
              "    <tr>\n",
              "      <th>41</th>\n",
              "      <td>neutral</td>\n",
              "      <td>2020-09-26</td>\n",
              "      <td>136</td>\n",
              "    </tr>\n",
              "    <tr>\n",
              "      <th>42</th>\n",
              "      <td>neutral</td>\n",
              "      <td>2020-10-16</td>\n",
              "      <td>73</td>\n",
              "    </tr>\n",
              "    <tr>\n",
              "      <th>43</th>\n",
              "      <td>neutral</td>\n",
              "      <td>2020-10-17</td>\n",
              "      <td>76</td>\n",
              "    </tr>\n",
              "    <tr>\n",
              "      <th>44</th>\n",
              "      <td>neutral</td>\n",
              "      <td>2020-10-18</td>\n",
              "      <td>47</td>\n",
              "    </tr>\n",
              "    <tr>\n",
              "      <th>45</th>\n",
              "      <td>neutral</td>\n",
              "      <td>2020-10-19</td>\n",
              "      <td>61</td>\n",
              "    </tr>\n",
              "    <tr>\n",
              "      <th>46</th>\n",
              "      <td>neutral</td>\n",
              "      <td>2020-10-20</td>\n",
              "      <td>92</td>\n",
              "    </tr>\n",
              "    <tr>\n",
              "      <th>47</th>\n",
              "      <td>neutral</td>\n",
              "      <td>2020-10-21</td>\n",
              "      <td>171</td>\n",
              "    </tr>\n",
              "    <tr>\n",
              "      <th>48</th>\n",
              "      <td>neutral</td>\n",
              "      <td>2020-10-22</td>\n",
              "      <td>149</td>\n",
              "    </tr>\n",
              "    <tr>\n",
              "      <th>49</th>\n",
              "      <td>neutral</td>\n",
              "      <td>2020-10-23</td>\n",
              "      <td>152</td>\n",
              "    </tr>\n",
              "    <tr>\n",
              "      <th>50</th>\n",
              "      <td>positive</td>\n",
              "      <td>2020-09-08</td>\n",
              "      <td>56</td>\n",
              "    </tr>\n",
              "    <tr>\n",
              "      <th>51</th>\n",
              "      <td>positive</td>\n",
              "      <td>2020-09-09</td>\n",
              "      <td>44</td>\n",
              "    </tr>\n",
              "    <tr>\n",
              "      <th>52</th>\n",
              "      <td>positive</td>\n",
              "      <td>2020-09-10</td>\n",
              "      <td>21</td>\n",
              "    </tr>\n",
              "    <tr>\n",
              "      <th>53</th>\n",
              "      <td>positive</td>\n",
              "      <td>2020-09-12</td>\n",
              "      <td>16</td>\n",
              "    </tr>\n",
              "    <tr>\n",
              "      <th>54</th>\n",
              "      <td>positive</td>\n",
              "      <td>2020-09-13</td>\n",
              "      <td>27</td>\n",
              "    </tr>\n",
              "    <tr>\n",
              "      <th>55</th>\n",
              "      <td>positive</td>\n",
              "      <td>2020-09-14</td>\n",
              "      <td>50</td>\n",
              "    </tr>\n",
              "    <tr>\n",
              "      <th>56</th>\n",
              "      <td>positive</td>\n",
              "      <td>2020-09-15</td>\n",
              "      <td>112</td>\n",
              "    </tr>\n",
              "    <tr>\n",
              "      <th>57</th>\n",
              "      <td>positive</td>\n",
              "      <td>2020-09-16</td>\n",
              "      <td>33</td>\n",
              "    </tr>\n",
              "    <tr>\n",
              "      <th>58</th>\n",
              "      <td>positive</td>\n",
              "      <td>2020-09-17</td>\n",
              "      <td>2331</td>\n",
              "    </tr>\n",
              "    <tr>\n",
              "      <th>59</th>\n",
              "      <td>positive</td>\n",
              "      <td>2020-09-18</td>\n",
              "      <td>186</td>\n",
              "    </tr>\n",
              "    <tr>\n",
              "      <th>60</th>\n",
              "      <td>positive</td>\n",
              "      <td>2020-09-19</td>\n",
              "      <td>70</td>\n",
              "    </tr>\n",
              "    <tr>\n",
              "      <th>61</th>\n",
              "      <td>positive</td>\n",
              "      <td>2020-09-20</td>\n",
              "      <td>50</td>\n",
              "    </tr>\n",
              "    <tr>\n",
              "      <th>62</th>\n",
              "      <td>positive</td>\n",
              "      <td>2020-09-22</td>\n",
              "      <td>111</td>\n",
              "    </tr>\n",
              "    <tr>\n",
              "      <th>63</th>\n",
              "      <td>positive</td>\n",
              "      <td>2020-09-23</td>\n",
              "      <td>105</td>\n",
              "    </tr>\n",
              "    <tr>\n",
              "      <th>64</th>\n",
              "      <td>positive</td>\n",
              "      <td>2020-09-24</td>\n",
              "      <td>45</td>\n",
              "    </tr>\n",
              "    <tr>\n",
              "      <th>65</th>\n",
              "      <td>positive</td>\n",
              "      <td>2020-09-25</td>\n",
              "      <td>16</td>\n",
              "    </tr>\n",
              "    <tr>\n",
              "      <th>66</th>\n",
              "      <td>positive</td>\n",
              "      <td>2020-09-26</td>\n",
              "      <td>26</td>\n",
              "    </tr>\n",
              "    <tr>\n",
              "      <th>67</th>\n",
              "      <td>positive</td>\n",
              "      <td>2020-10-16</td>\n",
              "      <td>17</td>\n",
              "    </tr>\n",
              "    <tr>\n",
              "      <th>68</th>\n",
              "      <td>positive</td>\n",
              "      <td>2020-10-17</td>\n",
              "      <td>17</td>\n",
              "    </tr>\n",
              "    <tr>\n",
              "      <th>69</th>\n",
              "      <td>positive</td>\n",
              "      <td>2020-10-18</td>\n",
              "      <td>22</td>\n",
              "    </tr>\n",
              "    <tr>\n",
              "      <th>70</th>\n",
              "      <td>positive</td>\n",
              "      <td>2020-10-19</td>\n",
              "      <td>24</td>\n",
              "    </tr>\n",
              "    <tr>\n",
              "      <th>71</th>\n",
              "      <td>positive</td>\n",
              "      <td>2020-10-20</td>\n",
              "      <td>22</td>\n",
              "    </tr>\n",
              "    <tr>\n",
              "      <th>72</th>\n",
              "      <td>positive</td>\n",
              "      <td>2020-10-21</td>\n",
              "      <td>36</td>\n",
              "    </tr>\n",
              "    <tr>\n",
              "      <th>73</th>\n",
              "      <td>positive</td>\n",
              "      <td>2020-10-22</td>\n",
              "      <td>109</td>\n",
              "    </tr>\n",
              "    <tr>\n",
              "      <th>74</th>\n",
              "      <td>positive</td>\n",
              "      <td>2020-10-23</td>\n",
              "      <td>39</td>\n",
              "    </tr>\n",
              "  </tbody>\n",
              "</table>\n",
              "</div>"
            ],
            "text/plain": [
              "   sentiment        Date  counter\n",
              "0   negative  2020-09-08       10\n",
              "1   negative  2020-09-09        9\n",
              "2   negative  2020-09-10       15\n",
              "3   negative  2020-09-12        3\n",
              "4   negative  2020-09-13        4\n",
              "5   negative  2020-09-14       10\n",
              "6   negative  2020-09-15       33\n",
              "7   negative  2020-09-16        8\n",
              "8   negative  2020-09-17        8\n",
              "9   negative  2020-09-18        7\n",
              "10  negative  2020-09-19        2\n",
              "11  negative  2020-09-20        3\n",
              "12  negative  2020-09-22       16\n",
              "13  negative  2020-09-23       15\n",
              "14  negative  2020-09-24       11\n",
              "15  negative  2020-09-25       10\n",
              "16  negative  2020-09-26        3\n",
              "17  negative  2020-10-16        3\n",
              "18  negative  2020-10-17        5\n",
              "19  negative  2020-10-18        3\n",
              "20  negative  2020-10-19        7\n",
              "21  negative  2020-10-20        7\n",
              "22  negative  2020-10-21        8\n",
              "23  negative  2020-10-22        5\n",
              "24  negative  2020-10-23        4\n",
              "25   neutral  2020-09-08      160\n",
              "26   neutral  2020-09-09      154\n",
              "27   neutral  2020-09-10      202\n",
              "28   neutral  2020-09-12       91\n",
              "29   neutral  2020-09-13       80\n",
              "30   neutral  2020-09-14      255\n",
              "31   neutral  2020-09-15      200\n",
              "32   neutral  2020-09-16       98\n",
              "33   neutral  2020-09-17       95\n",
              "34   neutral  2020-09-18      113\n",
              "35   neutral  2020-09-19      114\n",
              "36   neutral  2020-09-20       84\n",
              "37   neutral  2020-09-22      446\n",
              "38   neutral  2020-09-23      369\n",
              "39   neutral  2020-09-24      160\n",
              "40   neutral  2020-09-25      132\n",
              "41   neutral  2020-09-26      136\n",
              "42   neutral  2020-10-16       73\n",
              "43   neutral  2020-10-17       76\n",
              "44   neutral  2020-10-18       47\n",
              "45   neutral  2020-10-19       61\n",
              "46   neutral  2020-10-20       92\n",
              "47   neutral  2020-10-21      171\n",
              "48   neutral  2020-10-22      149\n",
              "49   neutral  2020-10-23      152\n",
              "50  positive  2020-09-08       56\n",
              "51  positive  2020-09-09       44\n",
              "52  positive  2020-09-10       21\n",
              "53  positive  2020-09-12       16\n",
              "54  positive  2020-09-13       27\n",
              "55  positive  2020-09-14       50\n",
              "56  positive  2020-09-15      112\n",
              "57  positive  2020-09-16       33\n",
              "58  positive  2020-09-17     2331\n",
              "59  positive  2020-09-18      186\n",
              "60  positive  2020-09-19       70\n",
              "61  positive  2020-09-20       50\n",
              "62  positive  2020-09-22      111\n",
              "63  positive  2020-09-23      105\n",
              "64  positive  2020-09-24       45\n",
              "65  positive  2020-09-25       16\n",
              "66  positive  2020-09-26       26\n",
              "67  positive  2020-10-16       17\n",
              "68  positive  2020-10-17       17\n",
              "69  positive  2020-10-18       22\n",
              "70  positive  2020-10-19       24\n",
              "71  positive  2020-10-20       22\n",
              "72  positive  2020-10-21       36\n",
              "73  positive  2020-10-22      109\n",
              "74  positive  2020-10-23       39"
            ]
          },
          "metadata": {
            "tags": []
          },
          "execution_count": 305
        }
      ]
    },
    {
      "cell_type": "code",
      "metadata": {
        "id": "9VrM8X5m21L3"
      },
      "source": [
        "p1 = df_sent[:25]\n",
        "p2 = df_sent[25:50]\n",
        "p3 = df_sent[50:]"
      ],
      "execution_count": 306,
      "outputs": []
    },
    {
      "cell_type": "code",
      "metadata": {
        "id": "oJuSrTrw3Dbd",
        "outputId": "1e32d1fa-2198-46c2-d0cb-25e6e308b1fc",
        "colab": {
          "base_uri": "https://localhost:8080/",
          "height": 483
        }
      },
      "source": [
        "plt.figure(figsize=(12,8))\n",
        "def norm(data):\n",
        "  return (data)/(max(data)-min(data))\n",
        "plt.plot(p1['Date'],norm(p1['counter']), marker='o',label='negative')\n",
        "plt.plot(p2['Date'],norm(p2['counter']), marker='o',label='neutral')\n",
        "plt.plot(p3['Date'],norm(p3['counter']), marker='o',label='positive')\n",
        "plt.legend()\n",
        "plt.show()"
      ],
      "execution_count": 313,
      "outputs": [
        {
          "output_type": "display_data",
          "data": {
            "image/png": "[encoded data removed]",
            "text/plain": [
              "<Figure size 864x576 with 1 Axes>"
            ]
          },
          "metadata": {
            "tags": [],
            "needs_background": "light"
          }
        }
      ]
    },
    {
      "cell_type": "code",
      "metadata": {
        "id": "tQkIQsDI5suh",
        "outputId": "8b7f97b9-52dc-4f75-d49c-934950a12057",
        "colab": {
          "base_uri": "https://localhost:8080/",
          "height": 483
        }
      },
      "source": [
        "plt.figure(figsize=(12,8))\n",
        "def norm(data):\n",
        "  return (data)/(max(data)-min(data))\n",
        "plt.plot(p1['Date'],(p1['counter']), marker='o',label='negative')\n",
        "plt.plot(p2['Date'],(p2['counter']), marker='o',label='neutral')\n",
        "plt.plot(p3['Date'],(p3['counter']), marker='o',label='positive')\n",
        "plt.legend()\n",
        "plt.show()"
      ],
      "execution_count": 314,
      "outputs": [
        {
          "output_type": "display_data",
          "data": {
            "image/png": "[encoded data removed]",
            "text/plain": [
              "<Figure size 864x576 with 1 Axes>"
            ]
          },
          "metadata": {
            "tags": [],
            "needs_background": "light"
          }
        }
      ]
    }
  ]
}